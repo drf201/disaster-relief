{
 "cells": [
  {
   "cell_type": "code",
   "execution_count": 2,
   "metadata": {},
   "outputs": [],
   "source": [
    "import pandas as pd\n",
    "import numpy as np\n",
    "import re\n",
    "from sklearn.model_selection import train_test_split, GridSearchCV, cross_val_score\n",
    "from sklearn.linear_model import LogisticRegressionCV, LogisticRegression\n",
    "from sklearn.feature_extraction.text import CountVectorizer, ENGLISH_STOP_WORDS, TfidfVectorizer\n",
    "from sklearn.naive_bayes import MultinomialNB\n",
    "from sklearn.tree import DecisionTreeClassifier\n",
    "from sklearn.ensemble import RandomForestClassifier, BaggingClassifier, AdaBoostClassifier, VotingClassifier\n",
    "from sklearn.naive_bayes import MultinomialNB\n",
    "from xgboost import XGBClassifier\n",
    "from sklearn.svm import SVC\n",
    "from nltk.corpus import stopwords\n",
    "from sklearn.metrics import confusion_matrix, classification_report, accuracy_score\n",
    "from sklearn.pipeline import Pipeline\n",
    "import matplotlib.pyplot as plt \n",
    "import seaborn as sns \n",
    "import pickle "
   ]
  },
  {
   "cell_type": "markdown",
   "metadata": {},
   "source": [
    "### FigureEight model training and dataset cleaning"
   ]
  },
  {
   "cell_type": "code",
   "execution_count": 2,
   "metadata": {},
   "outputs": [],
   "source": [
    "#import figure 8 dataset.\n",
    "data = pd.read_csv('../datasets/socialmedia-disaster-tweets-DFE.csv', encoding=\"ISO-8859-1\")"
   ]
  },
  {
   "cell_type": "code",
   "execution_count": 4,
   "metadata": {},
   "outputs": [
    {
     "data": {
      "text/html": [
       "<div>\n",
       "<style scoped>\n",
       "    .dataframe tbody tr th:only-of-type {\n",
       "        vertical-align: middle;\n",
       "    }\n",
       "\n",
       "    .dataframe tbody tr th {\n",
       "        vertical-align: top;\n",
       "    }\n",
       "\n",
       "    .dataframe thead th {\n",
       "        text-align: right;\n",
       "    }\n",
       "</style>\n",
       "<table border=\"1\" class=\"dataframe\">\n",
       "  <thead>\n",
       "    <tr style=\"text-align: right;\">\n",
       "      <th></th>\n",
       "      <th>_unit_id</th>\n",
       "      <th>_golden</th>\n",
       "      <th>_unit_state</th>\n",
       "      <th>_trusted_judgments</th>\n",
       "      <th>_last_judgment_at</th>\n",
       "      <th>choose_one</th>\n",
       "      <th>choose_one:confidence</th>\n",
       "      <th>choose_one_gold</th>\n",
       "      <th>keyword</th>\n",
       "      <th>location</th>\n",
       "      <th>text</th>\n",
       "      <th>tweetid</th>\n",
       "      <th>userid</th>\n",
       "    </tr>\n",
       "  </thead>\n",
       "  <tbody>\n",
       "    <tr>\n",
       "      <td>0</td>\n",
       "      <td>778243823</td>\n",
       "      <td>True</td>\n",
       "      <td>golden</td>\n",
       "      <td>156</td>\n",
       "      <td>NaN</td>\n",
       "      <td>Relevant</td>\n",
       "      <td>1.0000</td>\n",
       "      <td>Relevant</td>\n",
       "      <td>NaN</td>\n",
       "      <td>NaN</td>\n",
       "      <td>Just happened a terrible car crash</td>\n",
       "      <td>1.0</td>\n",
       "      <td>NaN</td>\n",
       "    </tr>\n",
       "    <tr>\n",
       "      <td>1</td>\n",
       "      <td>778243824</td>\n",
       "      <td>True</td>\n",
       "      <td>golden</td>\n",
       "      <td>152</td>\n",
       "      <td>NaN</td>\n",
       "      <td>Relevant</td>\n",
       "      <td>1.0000</td>\n",
       "      <td>Relevant</td>\n",
       "      <td>NaN</td>\n",
       "      <td>NaN</td>\n",
       "      <td>Our Deeds are the Reason of this #earthquake M...</td>\n",
       "      <td>13.0</td>\n",
       "      <td>NaN</td>\n",
       "    </tr>\n",
       "    <tr>\n",
       "      <td>2</td>\n",
       "      <td>778243825</td>\n",
       "      <td>True</td>\n",
       "      <td>golden</td>\n",
       "      <td>137</td>\n",
       "      <td>NaN</td>\n",
       "      <td>Relevant</td>\n",
       "      <td>1.0000</td>\n",
       "      <td>Relevant</td>\n",
       "      <td>NaN</td>\n",
       "      <td>NaN</td>\n",
       "      <td>Heard about #earthquake is different cities, s...</td>\n",
       "      <td>14.0</td>\n",
       "      <td>NaN</td>\n",
       "    </tr>\n",
       "    <tr>\n",
       "      <td>3</td>\n",
       "      <td>778243826</td>\n",
       "      <td>True</td>\n",
       "      <td>golden</td>\n",
       "      <td>136</td>\n",
       "      <td>NaN</td>\n",
       "      <td>Relevant</td>\n",
       "      <td>0.9603</td>\n",
       "      <td>Relevant</td>\n",
       "      <td>NaN</td>\n",
       "      <td>NaN</td>\n",
       "      <td>there is a forest fire at spot pond, geese are...</td>\n",
       "      <td>15.0</td>\n",
       "      <td>NaN</td>\n",
       "    </tr>\n",
       "    <tr>\n",
       "      <td>4</td>\n",
       "      <td>778243827</td>\n",
       "      <td>True</td>\n",
       "      <td>golden</td>\n",
       "      <td>138</td>\n",
       "      <td>NaN</td>\n",
       "      <td>Relevant</td>\n",
       "      <td>1.0000</td>\n",
       "      <td>Relevant</td>\n",
       "      <td>NaN</td>\n",
       "      <td>NaN</td>\n",
       "      <td>Forest fire near La Ronge Sask. Canada</td>\n",
       "      <td>16.0</td>\n",
       "      <td>NaN</td>\n",
       "    </tr>\n",
       "    <tr>\n",
       "      <td>...</td>\n",
       "      <td>...</td>\n",
       "      <td>...</td>\n",
       "      <td>...</td>\n",
       "      <td>...</td>\n",
       "      <td>...</td>\n",
       "      <td>...</td>\n",
       "      <td>...</td>\n",
       "      <td>...</td>\n",
       "      <td>...</td>\n",
       "      <td>...</td>\n",
       "      <td>...</td>\n",
       "      <td>...</td>\n",
       "      <td>...</td>\n",
       "    </tr>\n",
       "    <tr>\n",
       "      <td>10871</td>\n",
       "      <td>778261105</td>\n",
       "      <td>True</td>\n",
       "      <td>golden</td>\n",
       "      <td>100</td>\n",
       "      <td>NaN</td>\n",
       "      <td>Relevant</td>\n",
       "      <td>0.7629</td>\n",
       "      <td>Relevant</td>\n",
       "      <td>NaN</td>\n",
       "      <td>NaN</td>\n",
       "      <td>M1.94 [01:04 UTC]?5km S of Volcano Hawaii. htt...</td>\n",
       "      <td>5675678.0</td>\n",
       "      <td>NaN</td>\n",
       "    </tr>\n",
       "    <tr>\n",
       "      <td>10872</td>\n",
       "      <td>778261106</td>\n",
       "      <td>True</td>\n",
       "      <td>golden</td>\n",
       "      <td>90</td>\n",
       "      <td>NaN</td>\n",
       "      <td>Relevant</td>\n",
       "      <td>0.9203</td>\n",
       "      <td>Relevant</td>\n",
       "      <td>NaN</td>\n",
       "      <td>NaN</td>\n",
       "      <td>Police investigating after an e-bike collided ...</td>\n",
       "      <td>4234.0</td>\n",
       "      <td>NaN</td>\n",
       "    </tr>\n",
       "    <tr>\n",
       "      <td>10873</td>\n",
       "      <td>778261107</td>\n",
       "      <td>True</td>\n",
       "      <td>golden</td>\n",
       "      <td>102</td>\n",
       "      <td>NaN</td>\n",
       "      <td>Relevant</td>\n",
       "      <td>1.0000</td>\n",
       "      <td>Relevant</td>\n",
       "      <td>NaN</td>\n",
       "      <td>NaN</td>\n",
       "      <td>The Latest: More Homes Razed by Northern Calif...</td>\n",
       "      <td>3242.0</td>\n",
       "      <td>NaN</td>\n",
       "    </tr>\n",
       "    <tr>\n",
       "      <td>10874</td>\n",
       "      <td>778261108</td>\n",
       "      <td>True</td>\n",
       "      <td>golden</td>\n",
       "      <td>96</td>\n",
       "      <td>NaN</td>\n",
       "      <td>Relevant</td>\n",
       "      <td>0.8419</td>\n",
       "      <td>Relevant</td>\n",
       "      <td>NaN</td>\n",
       "      <td>NaN</td>\n",
       "      <td>MEG issues Hazardous Weather Outlook (HWO) htt...</td>\n",
       "      <td>457.0</td>\n",
       "      <td>NaN</td>\n",
       "    </tr>\n",
       "    <tr>\n",
       "      <td>10875</td>\n",
       "      <td>778261109</td>\n",
       "      <td>True</td>\n",
       "      <td>golden</td>\n",
       "      <td>97</td>\n",
       "      <td>NaN</td>\n",
       "      <td>Relevant</td>\n",
       "      <td>0.8812</td>\n",
       "      <td>Relevant</td>\n",
       "      <td>NaN</td>\n",
       "      <td>NaN</td>\n",
       "      <td>#CityofCalgary has activated its Municipal Eme...</td>\n",
       "      <td>6585.0</td>\n",
       "      <td>NaN</td>\n",
       "    </tr>\n",
       "  </tbody>\n",
       "</table>\n",
       "<p>10876 rows × 13 columns</p>\n",
       "</div>"
      ],
      "text/plain": [
       "        _unit_id  _golden _unit_state  _trusted_judgments _last_judgment_at  \\\n",
       "0      778243823     True      golden                 156               NaN   \n",
       "1      778243824     True      golden                 152               NaN   \n",
       "2      778243825     True      golden                 137               NaN   \n",
       "3      778243826     True      golden                 136               NaN   \n",
       "4      778243827     True      golden                 138               NaN   \n",
       "...          ...      ...         ...                 ...               ...   \n",
       "10871  778261105     True      golden                 100               NaN   \n",
       "10872  778261106     True      golden                  90               NaN   \n",
       "10873  778261107     True      golden                 102               NaN   \n",
       "10874  778261108     True      golden                  96               NaN   \n",
       "10875  778261109     True      golden                  97               NaN   \n",
       "\n",
       "      choose_one  choose_one:confidence choose_one_gold keyword location  \\\n",
       "0       Relevant                 1.0000        Relevant     NaN      NaN   \n",
       "1       Relevant                 1.0000        Relevant     NaN      NaN   \n",
       "2       Relevant                 1.0000        Relevant     NaN      NaN   \n",
       "3       Relevant                 0.9603        Relevant     NaN      NaN   \n",
       "4       Relevant                 1.0000        Relevant     NaN      NaN   \n",
       "...          ...                    ...             ...     ...      ...   \n",
       "10871   Relevant                 0.7629        Relevant     NaN      NaN   \n",
       "10872   Relevant                 0.9203        Relevant     NaN      NaN   \n",
       "10873   Relevant                 1.0000        Relevant     NaN      NaN   \n",
       "10874   Relevant                 0.8419        Relevant     NaN      NaN   \n",
       "10875   Relevant                 0.8812        Relevant     NaN      NaN   \n",
       "\n",
       "                                                    text    tweetid  userid  \n",
       "0                     Just happened a terrible car crash        1.0     NaN  \n",
       "1      Our Deeds are the Reason of this #earthquake M...       13.0     NaN  \n",
       "2      Heard about #earthquake is different cities, s...       14.0     NaN  \n",
       "3      there is a forest fire at spot pond, geese are...       15.0     NaN  \n",
       "4                 Forest fire near La Ronge Sask. Canada       16.0     NaN  \n",
       "...                                                  ...        ...     ...  \n",
       "10871  M1.94 [01:04 UTC]?5km S of Volcano Hawaii. htt...  5675678.0     NaN  \n",
       "10872  Police investigating after an e-bike collided ...     4234.0     NaN  \n",
       "10873  The Latest: More Homes Razed by Northern Calif...     3242.0     NaN  \n",
       "10874  MEG issues Hazardous Weather Outlook (HWO) htt...      457.0     NaN  \n",
       "10875  #CityofCalgary has activated its Municipal Eme...     6585.0     NaN  \n",
       "\n",
       "[10876 rows x 13 columns]"
      ]
     },
     "execution_count": 4,
     "metadata": {},
     "output_type": "execute_result"
    }
   ],
   "source": [
    "data"
   ]
  },
  {
   "cell_type": "code",
   "execution_count": 6,
   "metadata": {},
   "outputs": [
    {
     "data": {
      "text/plain": [
       "Not Relevant    6187\n",
       "Relevant        4673\n",
       "Can't Decide      16\n",
       "Name: choose_one, dtype: int64"
      ]
     },
     "execution_count": 6,
     "metadata": {},
     "output_type": "execute_result"
    }
   ],
   "source": [
    "data['choose_one'].value_counts()"
   ]
  },
  {
   "cell_type": "code",
   "execution_count": 7,
   "metadata": {},
   "outputs": [],
   "source": [
    "#Clenaing of regex and html. From doug on 11/1/19\n",
    "data['text'] = data.text.map(lambda x: re.sub('\\s[\\/]?r\\/[^s]+', ' ', x))\n",
    "data['text'] = data.text.map(lambda x: re.sub('http[s]?:\\/\\/[^\\s]*', ' ', x))"
   ]
  },
  {
   "cell_type": "code",
   "execution_count": 8,
   "metadata": {},
   "outputs": [],
   "source": [
    "#Changing the target column to 1's and 0's for ease of viewing. Also converted \n",
    "data['choose_one'] = data['choose_one'].map({'Not Relevant':0, 'Relevant': 1, 'Can\\'t Decide':0})"
   ]
  },
  {
   "cell_type": "code",
   "execution_count": 9,
   "metadata": {
    "scrolled": true
   },
   "outputs": [
    {
     "data": {
      "text/html": [
       "<div>\n",
       "<style scoped>\n",
       "    .dataframe tbody tr th:only-of-type {\n",
       "        vertical-align: middle;\n",
       "    }\n",
       "\n",
       "    .dataframe tbody tr th {\n",
       "        vertical-align: top;\n",
       "    }\n",
       "\n",
       "    .dataframe thead th {\n",
       "        text-align: right;\n",
       "    }\n",
       "</style>\n",
       "<table border=\"1\" class=\"dataframe\">\n",
       "  <thead>\n",
       "    <tr style=\"text-align: right;\">\n",
       "      <th></th>\n",
       "      <th>_unit_id</th>\n",
       "      <th>_golden</th>\n",
       "      <th>_unit_state</th>\n",
       "      <th>_trusted_judgments</th>\n",
       "      <th>_last_judgment_at</th>\n",
       "      <th>choose_one</th>\n",
       "      <th>choose_one:confidence</th>\n",
       "      <th>choose_one_gold</th>\n",
       "      <th>keyword</th>\n",
       "      <th>location</th>\n",
       "      <th>text</th>\n",
       "      <th>tweetid</th>\n",
       "      <th>userid</th>\n",
       "    </tr>\n",
       "  </thead>\n",
       "  <tbody>\n",
       "    <tr>\n",
       "      <td>0</td>\n",
       "      <td>778243823</td>\n",
       "      <td>True</td>\n",
       "      <td>golden</td>\n",
       "      <td>156</td>\n",
       "      <td>NaN</td>\n",
       "      <td>1</td>\n",
       "      <td>1.0000</td>\n",
       "      <td>Relevant</td>\n",
       "      <td>NaN</td>\n",
       "      <td>NaN</td>\n",
       "      <td>Just happened a terrible car crash</td>\n",
       "      <td>1.0</td>\n",
       "      <td>NaN</td>\n",
       "    </tr>\n",
       "    <tr>\n",
       "      <td>1</td>\n",
       "      <td>778243824</td>\n",
       "      <td>True</td>\n",
       "      <td>golden</td>\n",
       "      <td>152</td>\n",
       "      <td>NaN</td>\n",
       "      <td>1</td>\n",
       "      <td>1.0000</td>\n",
       "      <td>Relevant</td>\n",
       "      <td>NaN</td>\n",
       "      <td>NaN</td>\n",
       "      <td>Our Deeds are the Reason of this #earthquake M...</td>\n",
       "      <td>13.0</td>\n",
       "      <td>NaN</td>\n",
       "    </tr>\n",
       "    <tr>\n",
       "      <td>2</td>\n",
       "      <td>778243825</td>\n",
       "      <td>True</td>\n",
       "      <td>golden</td>\n",
       "      <td>137</td>\n",
       "      <td>NaN</td>\n",
       "      <td>1</td>\n",
       "      <td>1.0000</td>\n",
       "      <td>Relevant</td>\n",
       "      <td>NaN</td>\n",
       "      <td>NaN</td>\n",
       "      <td>Heard about #earthquake is different cities, s...</td>\n",
       "      <td>14.0</td>\n",
       "      <td>NaN</td>\n",
       "    </tr>\n",
       "    <tr>\n",
       "      <td>3</td>\n",
       "      <td>778243826</td>\n",
       "      <td>True</td>\n",
       "      <td>golden</td>\n",
       "      <td>136</td>\n",
       "      <td>NaN</td>\n",
       "      <td>1</td>\n",
       "      <td>0.9603</td>\n",
       "      <td>Relevant</td>\n",
       "      <td>NaN</td>\n",
       "      <td>NaN</td>\n",
       "      <td>there is a forest fire at spot pond, geese are...</td>\n",
       "      <td>15.0</td>\n",
       "      <td>NaN</td>\n",
       "    </tr>\n",
       "    <tr>\n",
       "      <td>4</td>\n",
       "      <td>778243827</td>\n",
       "      <td>True</td>\n",
       "      <td>golden</td>\n",
       "      <td>138</td>\n",
       "      <td>NaN</td>\n",
       "      <td>1</td>\n",
       "      <td>1.0000</td>\n",
       "      <td>Relevant</td>\n",
       "      <td>NaN</td>\n",
       "      <td>NaN</td>\n",
       "      <td>Forest fire near La Ronge Sask. Canada</td>\n",
       "      <td>16.0</td>\n",
       "      <td>NaN</td>\n",
       "    </tr>\n",
       "    <tr>\n",
       "      <td>...</td>\n",
       "      <td>...</td>\n",
       "      <td>...</td>\n",
       "      <td>...</td>\n",
       "      <td>...</td>\n",
       "      <td>...</td>\n",
       "      <td>...</td>\n",
       "      <td>...</td>\n",
       "      <td>...</td>\n",
       "      <td>...</td>\n",
       "      <td>...</td>\n",
       "      <td>...</td>\n",
       "      <td>...</td>\n",
       "      <td>...</td>\n",
       "    </tr>\n",
       "    <tr>\n",
       "      <td>10871</td>\n",
       "      <td>778261105</td>\n",
       "      <td>True</td>\n",
       "      <td>golden</td>\n",
       "      <td>100</td>\n",
       "      <td>NaN</td>\n",
       "      <td>1</td>\n",
       "      <td>0.7629</td>\n",
       "      <td>Relevant</td>\n",
       "      <td>NaN</td>\n",
       "      <td>NaN</td>\n",
       "      <td>M1.94 [01:04 UTC]?5km S of Volcano Hawaii.</td>\n",
       "      <td>5675678.0</td>\n",
       "      <td>NaN</td>\n",
       "    </tr>\n",
       "    <tr>\n",
       "      <td>10872</td>\n",
       "      <td>778261106</td>\n",
       "      <td>True</td>\n",
       "      <td>golden</td>\n",
       "      <td>90</td>\n",
       "      <td>NaN</td>\n",
       "      <td>1</td>\n",
       "      <td>0.9203</td>\n",
       "      <td>Relevant</td>\n",
       "      <td>NaN</td>\n",
       "      <td>NaN</td>\n",
       "      <td>Police investigating after an e-bike collided ...</td>\n",
       "      <td>4234.0</td>\n",
       "      <td>NaN</td>\n",
       "    </tr>\n",
       "    <tr>\n",
       "      <td>10873</td>\n",
       "      <td>778261107</td>\n",
       "      <td>True</td>\n",
       "      <td>golden</td>\n",
       "      <td>102</td>\n",
       "      <td>NaN</td>\n",
       "      <td>1</td>\n",
       "      <td>1.0000</td>\n",
       "      <td>Relevant</td>\n",
       "      <td>NaN</td>\n",
       "      <td>NaN</td>\n",
       "      <td>The Latest: More Homes Razed by Northern Calif...</td>\n",
       "      <td>3242.0</td>\n",
       "      <td>NaN</td>\n",
       "    </tr>\n",
       "    <tr>\n",
       "      <td>10874</td>\n",
       "      <td>778261108</td>\n",
       "      <td>True</td>\n",
       "      <td>golden</td>\n",
       "      <td>96</td>\n",
       "      <td>NaN</td>\n",
       "      <td>1</td>\n",
       "      <td>0.8419</td>\n",
       "      <td>Relevant</td>\n",
       "      <td>NaN</td>\n",
       "      <td>NaN</td>\n",
       "      <td>MEG issues Hazardous Weather Outlook (HWO)</td>\n",
       "      <td>457.0</td>\n",
       "      <td>NaN</td>\n",
       "    </tr>\n",
       "    <tr>\n",
       "      <td>10875</td>\n",
       "      <td>778261109</td>\n",
       "      <td>True</td>\n",
       "      <td>golden</td>\n",
       "      <td>97</td>\n",
       "      <td>NaN</td>\n",
       "      <td>1</td>\n",
       "      <td>0.8812</td>\n",
       "      <td>Relevant</td>\n",
       "      <td>NaN</td>\n",
       "      <td>NaN</td>\n",
       "      <td>#CityofCalgary has activated its Municipal Eme...</td>\n",
       "      <td>6585.0</td>\n",
       "      <td>NaN</td>\n",
       "    </tr>\n",
       "  </tbody>\n",
       "</table>\n",
       "<p>10876 rows × 13 columns</p>\n",
       "</div>"
      ],
      "text/plain": [
       "        _unit_id  _golden _unit_state  _trusted_judgments _last_judgment_at  \\\n",
       "0      778243823     True      golden                 156               NaN   \n",
       "1      778243824     True      golden                 152               NaN   \n",
       "2      778243825     True      golden                 137               NaN   \n",
       "3      778243826     True      golden                 136               NaN   \n",
       "4      778243827     True      golden                 138               NaN   \n",
       "...          ...      ...         ...                 ...               ...   \n",
       "10871  778261105     True      golden                 100               NaN   \n",
       "10872  778261106     True      golden                  90               NaN   \n",
       "10873  778261107     True      golden                 102               NaN   \n",
       "10874  778261108     True      golden                  96               NaN   \n",
       "10875  778261109     True      golden                  97               NaN   \n",
       "\n",
       "       choose_one  choose_one:confidence choose_one_gold keyword location  \\\n",
       "0               1                 1.0000        Relevant     NaN      NaN   \n",
       "1               1                 1.0000        Relevant     NaN      NaN   \n",
       "2               1                 1.0000        Relevant     NaN      NaN   \n",
       "3               1                 0.9603        Relevant     NaN      NaN   \n",
       "4               1                 1.0000        Relevant     NaN      NaN   \n",
       "...           ...                    ...             ...     ...      ...   \n",
       "10871           1                 0.7629        Relevant     NaN      NaN   \n",
       "10872           1                 0.9203        Relevant     NaN      NaN   \n",
       "10873           1                 1.0000        Relevant     NaN      NaN   \n",
       "10874           1                 0.8419        Relevant     NaN      NaN   \n",
       "10875           1                 0.8812        Relevant     NaN      NaN   \n",
       "\n",
       "                                                    text    tweetid  userid  \n",
       "0                     Just happened a terrible car crash        1.0     NaN  \n",
       "1      Our Deeds are the Reason of this #earthquake M...       13.0     NaN  \n",
       "2      Heard about #earthquake is different cities, s...       14.0     NaN  \n",
       "3      there is a forest fire at spot pond, geese are...       15.0     NaN  \n",
       "4                 Forest fire near La Ronge Sask. Canada       16.0     NaN  \n",
       "...                                                  ...        ...     ...  \n",
       "10871       M1.94 [01:04 UTC]?5km S of Volcano Hawaii.    5675678.0     NaN  \n",
       "10872  Police investigating after an e-bike collided ...     4234.0     NaN  \n",
       "10873  The Latest: More Homes Razed by Northern Calif...     3242.0     NaN  \n",
       "10874       MEG issues Hazardous Weather Outlook (HWO)        457.0     NaN  \n",
       "10875  #CityofCalgary has activated its Municipal Eme...     6585.0     NaN  \n",
       "\n",
       "[10876 rows x 13 columns]"
      ]
     },
     "execution_count": 9,
     "metadata": {},
     "output_type": "execute_result"
    }
   ],
   "source": [
    "data"
   ]
  },
  {
   "cell_type": "markdown",
   "metadata": {},
   "source": [
    "## Modeling"
   ]
  },
  {
   "cell_type": "code",
   "execution_count": 10,
   "metadata": {},
   "outputs": [],
   "source": [
    "features = ['text', 'choose_one']\n",
    "csv_dataframe = data[features]"
   ]
  },
  {
   "cell_type": "code",
   "execution_count": 53,
   "metadata": {},
   "outputs": [],
   "source": [
    "csv_dataframe.to_csv('../datasets/model_trainer.csv', index=False)"
   ]
  },
  {
   "cell_type": "code",
   "execution_count": 11,
   "metadata": {},
   "outputs": [],
   "source": [
    "#set up the varaibles for train test splitting.\n",
    "X = data['text']\n",
    "y = data['choose_one']"
   ]
  },
  {
   "cell_type": "code",
   "execution_count": 21,
   "metadata": {},
   "outputs": [],
   "source": [
    "X_train, X_test, y_train, y_test = train_test_split(X, y, test_size = .33, stratify = y, random_state = 3)"
   ]
  },
  {
   "cell_type": "markdown",
   "metadata": {},
   "source": [
    "### Logisitc Regression"
   ]
  },
  {
   "cell_type": "code",
   "execution_count": 44,
   "metadata": {},
   "outputs": [
    {
     "name": "stdout",
     "output_type": "stream",
     "text": [
      "Fitting 5 folds for each of 90 candidates, totalling 450 fits\n"
     ]
    },
    {
     "name": "stderr",
     "output_type": "stream",
     "text": [
      "[Parallel(n_jobs=-1)]: Using backend LokyBackend with 12 concurrent workers.\n",
      "[Parallel(n_jobs=-1)]: Done  26 tasks      | elapsed:    1.2s\n",
      "[Parallel(n_jobs=-1)]: Done 176 tasks      | elapsed:   10.5s\n",
      "[Parallel(n_jobs=-1)]: Done 426 tasks      | elapsed:   26.1s\n",
      "[Parallel(n_jobs=-1)]: Done 450 out of 450 | elapsed:   27.9s finished\n",
      "/anaconda3/lib/python3.7/site-packages/sklearn/linear_model/logistic.py:433: FutureWarning: Default solver will be changed to 'lbfgs' in 0.22. Specify a solver to silence this warning.\n",
      "  FutureWarning)\n"
     ]
    },
    {
     "name": "stdout",
     "output_type": "stream",
     "text": [
      "Best Params: {'cvec__min_df': 2, 'cvec__ngram_range': (1, 2), 'cvec__stop_words': frozenset({'where', 'ltd', 'already', 'thereafter', 'together', 'thin', 'me', 'thence', 'been', 'down', 'detail', 'yet', 'otherwise', 'this', 'see', 'myself', 'am', 'cry', 'name', 'put', 'everywhere', 'hereupon', 'get', 'several', 'toward', 'once', 'if', 'us', 'again', 'fifteen', 'eg', 'many', 'across', 'sometime', 'whereafter', 'about', 'none', 'less', 'my', 'although', 'meanwhile', 'interest', 'much', 'hereafter', 'might', 'whoever', 'wherein', 'still', 'back', 'elsewhere', 'though', 'himself', 'everything', 'seemed', 'she', 'more', 'up', 'one', 'by', 'beside', 'would', 'via', 'he', 'thick', 'yourselves', 'most', 'also', 'afterwards', 'cannot', 'may', 'enough', 'except', 'that', 'than', 'nine', 'ourselves', 'those', 'along', 'front', 'whither', 'to', 'somewhere', 'each', 'its', 'sometimes', 'a', 'had', 'con', 'alone', 'six', 'in', 'per', 'should', 'empty', 'nevertheless', 'part', 'show', 'into', 'perhaps', 'five', 'no', 'towards', 'seeming', 'forty', 'they', 'full', 'some', 'until', 'becomes', 'nor', 'mill', 'eight', 'thereupon', 'from', 'itself', 'couldnt', 'during', 'always', 'we', 'her', 'hereby', 'whatever', 'another', 'being', 'who', 'anyhow', 'without', 'four', 'here', 'whereas', 'sixty', 'almost', 'next', 'else', 'him', 'noone', 'whether', 'hundred', 'these', 'third', 'bill', 'only', 'rather', 'wherever', 'someone', 'upon', 'eleven', 'ten', 'because', 'first', 'made', 'under', 'be', 'of', 'so', 'ever', 'above', 'somehow', 'their', 'amongst', 'even', 'now', 'for', 'themselves', 'within', 'former', 'our', 'around', 'side', 'throughout', 'yourself', 'describe', 'inc', 'neither', 'over', 'has', 'done', 'thru', 'yours', 'move', 'such', 'how', 'hasnt', 'his', 'onto', 'any', 'was', 'it', 'amount', 'sincere', 'whose', 'will', 'all', 'at', 'everyone', 'became', 'please', 'amoungst', 'keep', 'before', 'un', 'whence', 'latterly', 'then', 'something', 'and', 'same', 'either', 'however', 'give', 'fire', 'whereupon', 'twelve', 'whole', 'three', 'becoming', 'have', 'very', 'own', 'two', 'against', 'as', 'found', 'nothing', 'serious', 'de', 'anyway', 'were', 'therein', 'co', 'both', 'due', 'since', 'top', 'them', 'the', 'whereby', 'bottom', 'hers', 'beyond', 'between', 'could', 'you', 'call', 'i', 'anything', 'whenever', 'anywhere', 'what', 'moreover', 'thus', 'nowhere', 'do', 'system', 'beforehand', 'etc', 'besides', 'there', 'fifty', 'latter', 'are', 'below', 'behind', 'other', 'go', 'whom', 'least', 'is', 'take', 'formerly', 'twenty', 'ours', 'herein', 'your', 'must', 'on', 'seems', 'but', 'namely', 'off', 'while', 'last', 'thereby', 're', 'or', 'few', 'through', 'indeed', 'not', 'anyone', 'after', 'can', 'every', 'hence', 'out', 'often', 'when', 'further', 'cant', 'among', 'an', 'become', 'fill', 'others', 'too', 'mostly', 'therefore', 'nobody', 'herself', 'with', 'never', 'why', 'ie', 'seem', 'which', 'well', 'mine', 'find'}), 'model__C': 0.5, 'model__penalty': 'l2'}\n",
      "Linear Model Training Score: 0.9135328026351908\n",
      "Linear Model Testing Score: 0.8025069637883009\n"
     ]
    }
   ],
   "source": [
    "logreg_pipe = Pipeline([\n",
    "    ('cvec', CountVectorizer()),\n",
    "    ('model', LogisticRegression())\n",
    "])\n",
    "\n",
    "logreg_params={\n",
    "    'cvec__min_df':[2, 4, 6],\n",
    "    'cvec__ngram_range':[(1,1),(1,2),(1,3)],\n",
    "    'cvec__stop_words':['english', ENGLISH_STOP_WORDS],\n",
    "    'model__C':[.001, .01, .1, .5, 1],\n",
    "    'model__penalty':['l1','l2']\n",
    "    }\n",
    "gs_logreg = GridSearchCV(logreg_pipe, param_grid=logreg_params, cv = 5, n_jobs=-1, verbose=1)\n",
    "gs_logreg.fit(X_train, y_train)\n",
    "\n",
    "\n",
    "print(f'Best Params: {gs_logreg.best_params_}')\n",
    "print(f'Linear Model Training Score: {gs_logreg.best_estimator_.score(X_train, y_train)}')\n",
    "print(f'Linear Model Testing Score: {gs_logreg.best_estimator_.score(X_test, y_test)}')"
   ]
  },
  {
   "cell_type": "markdown",
   "metadata": {},
   "source": [
    "### Deciison Tree"
   ]
  },
  {
   "cell_type": "code",
   "execution_count": 150,
   "metadata": {},
   "outputs": [
    {
     "name": "stdout",
     "output_type": "stream",
     "text": [
      "Fitting 5 folds for each of 486 candidates, totalling 2430 fits\n"
     ]
    },
    {
     "name": "stderr",
     "output_type": "stream",
     "text": [
      "[Parallel(n_jobs=-1)]: Using backend LokyBackend with 12 concurrent workers.\n",
      "[Parallel(n_jobs=-1)]: Done  26 tasks      | elapsed:    3.5s\n",
      "[Parallel(n_jobs=-1)]: Done 176 tasks      | elapsed:    7.9s\n",
      "[Parallel(n_jobs=-1)]: Done 426 tasks      | elapsed:   21.2s\n",
      "[Parallel(n_jobs=-1)]: Done 776 tasks      | elapsed:   50.0s\n",
      "[Parallel(n_jobs=-1)]: Done 1226 tasks      | elapsed:  1.2min\n",
      "[Parallel(n_jobs=-1)]: Done 1776 tasks      | elapsed:  1.9min\n",
      "[Parallel(n_jobs=-1)]: Done 2430 out of 2430 | elapsed:  2.6min finished\n"
     ]
    },
    {
     "name": "stdout",
     "output_type": "stream",
     "text": [
      "Best DT Params: {'cvec__min_df': 2, 'cvec__ngram_range': (1, 1), 'cvec__stop_words': 'english', 'model__max_depth': 5, 'model__min_samples_leaf': 10, 'model__min_samples_split': 4}\n",
      "Decision Tree Model Training Score: 0.6250343123799067\n",
      "Decision TreeModel Testing Score: 0.6253481894150418\n"
     ]
    }
   ],
   "source": [
    "dt_pipe = Pipeline([\n",
    "    ('cvec', CountVectorizer()),\n",
    "    ('model', DecisionTreeClassifier())\n",
    "])\n",
    "\n",
    "dt_params={\n",
    "    'cvec__min_df':[2, 4, 6],\n",
    "    'cvec__ngram_range':[(1,1),(1,2),(1,3)],\n",
    "    'cvec__stop_words':['english', ENGLISH_STOP_WORDS],\n",
    "    'model__max_depth':[3,4,5],\n",
    "    'model__min_samples_split':[4,8,12],\n",
    "    'model__min_samples_leaf':[5,10,15]\n",
    "    }\n",
    "gs_dt = GridSearchCV(dt_pipe, param_grid=dt_params, cv = 5, n_jobs=-1, verbose=1)\n",
    "gs_dt.fit(X_train, y_train)\n",
    "print(f'Best DT Params: {gs_dt.best_params_}')\n",
    "print(f'Decision Tree Model Training Score: {gs_dt.best_estimator_.score(X_train, y_train)}')\n",
    "print(f'Decision TreeModel Testing Score: {gs_dt.best_estimator_.score(X_test, y_test)}')"
   ]
  },
  {
   "cell_type": "markdown",
   "metadata": {},
   "source": [
    "### AdaBoost"
   ]
  },
  {
   "cell_type": "code",
   "execution_count": 151,
   "metadata": {},
   "outputs": [
    {
     "name": "stdout",
     "output_type": "stream",
     "text": [
      "Fitting 5 folds for each of 54 candidates, totalling 270 fits\n"
     ]
    },
    {
     "name": "stderr",
     "output_type": "stream",
     "text": [
      "[Parallel(n_jobs=-1)]: Using backend LokyBackend with 12 concurrent workers.\n",
      "[Parallel(n_jobs=-1)]: Done  26 tasks      | elapsed:    5.5s\n",
      "[Parallel(n_jobs=-1)]: Done 176 tasks      | elapsed:   27.3s\n",
      "[Parallel(n_jobs=-1)]: Done 270 out of 270 | elapsed:   39.0s finished\n"
     ]
    },
    {
     "name": "stdout",
     "output_type": "stream",
     "text": [
      "Best AdaBoost Params: {'cvec__min_df': 6, 'cvec__ngram_range': (1, 1), 'cvec__stop_words': 'english', 'model__base_estimator': DecisionTreeClassifier(class_weight=None, criterion='gini', max_depth=5,\n",
      "            max_features=None, max_leaf_nodes=None,\n",
      "            min_impurity_decrease=0.0, min_impurity_split=None,\n",
      "            min_samples_leaf=10, min_samples_split=4,\n",
      "            min_weight_fraction_leaf=0.0, presort=False, random_state=None,\n",
      "            splitter='best'), 'model__n_estimators': 50, 'model__random_state': 42}\n",
      "AdaBoost Model Training Score: 0.8195168816909141\n",
      "AdaBoost Model Testing Score: 0.7913649025069638\n"
     ]
    }
   ],
   "source": [
    "boost_pipe = Pipeline([\n",
    "    ('cvec', CountVectorizer()),\n",
    "    ('model', AdaBoostClassifier())\n",
    "])\n",
    "\n",
    "boost_params={\n",
    "    'cvec__min_df':[2, 4, 6],\n",
    "    'cvec__ngram_range':[(1,1),(1,2),(1,3)],\n",
    "    'cvec__stop_words':['english', ENGLISH_STOP_WORDS],\n",
    "    'model__base_estimator':[DecisionTreeClassifier(max_depth=5, min_samples_split=4, \n",
    "                    min_samples_leaf=10)],\n",
    "    'model__n_estimators':[10,50,100],\n",
    "    'model__random_state':[42],\n",
    "    }\n",
    "gs_boost = GridSearchCV(boost_pipe, param_grid=boost_params, cv = 5, n_jobs=-1, verbose=1)\n",
    "gs_boost.fit(X_train, y_train)\n",
    "print(f'Best AdaBoost Params: {gs_boost.best_params_}')\n",
    "print(f'AdaBoost Model Training Score: {gs_boost.best_estimator_.score(X_train, y_train)}')\n",
    "print(f'AdaBoost Model Testing Score: {gs_boost.best_estimator_.score(X_test, y_test)}')"
   ]
  },
  {
   "cell_type": "markdown",
   "metadata": {},
   "source": [
    "### Random Forest"
   ]
  },
  {
   "cell_type": "code",
   "execution_count": 47,
   "metadata": {},
   "outputs": [
    {
     "name": "stdout",
     "output_type": "stream",
     "text": [
      "Fitting 3 folds for each of 2916 candidates, totalling 8748 fits\n"
     ]
    },
    {
     "name": "stderr",
     "output_type": "stream",
     "text": [
      "[Parallel(n_jobs=-1)]: Using backend LokyBackend with 12 concurrent workers.\n",
      "[Parallel(n_jobs=-1)]: Done  26 tasks      | elapsed:    2.9s\n",
      "[Parallel(n_jobs=-1)]: Done 176 tasks      | elapsed:   20.0s\n",
      "[Parallel(n_jobs=-1)]: Done 426 tasks      | elapsed:   50.8s\n",
      "[Parallel(n_jobs=-1)]: Done 776 tasks      | elapsed:  1.6min\n",
      "[Parallel(n_jobs=-1)]: Done 1226 tasks      | elapsed:  2.7min\n",
      "[Parallel(n_jobs=-1)]: Done 1776 tasks      | elapsed:  4.1min\n",
      "[Parallel(n_jobs=-1)]: Done 2426 tasks      | elapsed:  6.0min\n",
      "[Parallel(n_jobs=-1)]: Done 3176 tasks      | elapsed:  8.0min\n",
      "[Parallel(n_jobs=-1)]: Done 4026 tasks      | elapsed: 10.0min\n",
      "[Parallel(n_jobs=-1)]: Done 4976 tasks      | elapsed: 12.5min\n",
      "[Parallel(n_jobs=-1)]: Done 6026 tasks      | elapsed: 15.5min\n",
      "[Parallel(n_jobs=-1)]: Done 7176 tasks      | elapsed: 18.4min\n",
      "[Parallel(n_jobs=-1)]: Done 8426 tasks      | elapsed: 22.1min\n",
      "[Parallel(n_jobs=-1)]: Done 8748 out of 8748 | elapsed: 23.1min finished\n"
     ]
    },
    {
     "name": "stdout",
     "output_type": "stream",
     "text": [
      "Best Random Forest Params: {'cvec__min_df': 6, 'cvec__ngram_range': (1, 1), 'cvec__stop_words': 'english', 'model__max_depth': 75, 'model__max_features': 5, 'model__min_samples_leaf': 5, 'model__min_samples_split': 2, 'model__n_estimators': 250, 'model__random_state': 3}\n",
      "Random Forest Model Training Score: 0.7452648915728795\n",
      "Random Forest Model Testing Score: 0.7303621169916434\n"
     ]
    }
   ],
   "source": [
    "rf_pipe = Pipeline([\n",
    "    ('cvec', CountVectorizer()),\n",
    "    ('model', RandomForestClassifier())\n",
    "])\n",
    "\n",
    "rf_params={\n",
    "    'cvec__min_df':[2, 4, 6],\n",
    "    'cvec__ngram_range':[(1,1),(1,2),(1,3)],\n",
    "    'cvec__stop_words':['english', ENGLISH_STOP_WORDS],\n",
    "    'model__n_estimators':[75, 250, 500],\n",
    "    'model__max_features':[2, 3, 5],\n",
    "    'model__max_depth':[5, 25, 75],\n",
    "    'model__min_samples_split':[2,3,4],\n",
    "    'model__min_samples_leaf':[5,10],\n",
    "    'model__random_state': [3]\n",
    "    }\n",
    "gs_rf = GridSearchCV(rf_pipe, param_grid=rf_params, cv = 3, n_jobs=-1, verbose=1)\n",
    "gs_rf.fit(X_train, y_train)\n",
    "print(f'Best Random Forest Params: {gs_rf.best_params_}')\n",
    "print(f'Random Forest Model Training Score: {gs_rf.best_estimator_.score(X_train, y_train)}')\n",
    "print(f'Random Forest Model Testing Score: {gs_rf.best_estimator_.score(X_test, y_test)}')"
   ]
  },
  {
   "cell_type": "markdown",
   "metadata": {},
   "source": [
    "### Naive Bayes"
   ]
  },
  {
   "cell_type": "code",
   "execution_count": 49,
   "metadata": {},
   "outputs": [
    {
     "name": "stdout",
     "output_type": "stream",
     "text": [
      "Fitting 5 folds for each of 72 candidates, totalling 360 fits\n"
     ]
    },
    {
     "name": "stderr",
     "output_type": "stream",
     "text": [
      "[Parallel(n_jobs=-1)]: Using backend LokyBackend with 12 concurrent workers.\n",
      "[Parallel(n_jobs=-1)]: Done  26 tasks      | elapsed:    1.1s\n",
      "[Parallel(n_jobs=-1)]: Done 176 tasks      | elapsed:   11.2s\n",
      "[Parallel(n_jobs=-1)]: Done 360 out of 360 | elapsed:   23.4s finished\n"
     ]
    },
    {
     "name": "stdout",
     "output_type": "stream",
     "text": [
      "Best Naive Bayes Params: {'cvec__min_df': 2, 'cvec__ngram_range': (1, 2), 'cvec__stop_words': 'english', 'model__alpha': 1}\n",
      "Naive Bayes Model Training Score: 0.8668679659621191\n",
      "Naive Bayes Model Testing Score: 0.8041782729805014\n"
     ]
    }
   ],
   "source": [
    "nb_pipe = Pipeline([\n",
    "    ('cvec', CountVectorizer()),\n",
    "    ('model', MultinomialNB())\n",
    "])\n",
    "\n",
    "nb_params = {\n",
    "    'cvec__min_df':[1,2,4, 6],\n",
    "    'cvec__ngram_range':[(1,1),(1,2),(1,3)],\n",
    "    'cvec__stop_words':['english', ENGLISH_STOP_WORDS],\n",
    "    'model__alpha': [0.1,1,10]\n",
    "}\n",
    "\n",
    "gs_nb = GridSearchCV(nb_pipe, param_grid=nb_params, cv=5, n_jobs=-1, verbose=1)\n",
    "gs_nb.fit(X_train, y_train)\n",
    "print(f'Best Naive Bayes Params: {gs_nb.best_params_}')\n",
    "print(f'Naive Bayes Model Training Score: {gs_nb.best_estimator_.score(X_train, y_train)}')\n",
    "print(f'Naive Bayes Model Testing Score: {gs_nb.best_estimator_.score(X_test, y_test)}')"
   ]
  },
  {
   "cell_type": "markdown",
   "metadata": {},
   "source": [
    "### SVM"
   ]
  },
  {
   "cell_type": "code",
   "execution_count": 76,
   "metadata": {},
   "outputs": [
    {
     "name": "stdout",
     "output_type": "stream",
     "text": [
      "Fitting 5 folds for each of 54 candidates, totalling 270 fits\n"
     ]
    },
    {
     "name": "stderr",
     "output_type": "stream",
     "text": [
      "[Parallel(n_jobs=10)]: Using backend LokyBackend with 10 concurrent workers.\n",
      "[Parallel(n_jobs=10)]: Done  30 tasks      | elapsed:   22.8s\n",
      "[Parallel(n_jobs=10)]: Done 180 tasks      | elapsed:  2.3min\n",
      "[Parallel(n_jobs=10)]: Done 270 out of 270 | elapsed:  3.3min finished\n"
     ]
    },
    {
     "name": "stdout",
     "output_type": "stream",
     "text": [
      "Best SVM Params: {'cvec__min_df': 4, 'cvec__ngram_range': (1, 2), 'cvec__stop_words': 'english', 'model__C': 1}\n",
      "SVM Model Training Score: 0.912983804556684\n",
      "SVM Model Testing Score: 0.803899721448468\n"
     ]
    }
   ],
   "source": [
    "svm_pipe = Pipeline([\n",
    "    ('cvec', CountVectorizer()),\n",
    "    ('model', SVC(gamma='scale'))\n",
    "])\n",
    "\n",
    "svm_params = {\n",
    "    'cvec__min_df':[2,4,6],\n",
    "    'cvec__ngram_range':[(1,1),(1,2),(1,3)],\n",
    "    'cvec__stop_words':['english', ENGLISH_STOP_WORDS],\n",
    "    'model__C':[.1, 1, 10]  \n",
    "}\n",
    "\n",
    "gs_svm = GridSearchCV(svm_pipe, param_grid=svm_params, cv=5, n_jobs=10, verbose=1)\n",
    "gs_svm.fit(X_train, y_train)\n",
    "\n",
    "print(f'Best SVM Params: {gs_svm.best_params_}')\n",
    "print(f'SVM Model Training Score: {gs_svm.best_estimator_.score(X_train, y_train)}')\n",
    "print(f'SVM Model Testing Score: {gs_svm.best_estimator_.score(X_test, y_test)}')"
   ]
  },
  {
   "cell_type": "markdown",
   "metadata": {},
   "source": [
    "### XbgBoost"
   ]
  },
  {
   "cell_type": "code",
   "execution_count": 62,
   "metadata": {},
   "outputs": [
    {
     "name": "stdout",
     "output_type": "stream",
     "text": [
      "Fitting 5 folds for each of 36 candidates, totalling 180 fits\n"
     ]
    },
    {
     "name": "stderr",
     "output_type": "stream",
     "text": [
      "[Parallel(n_jobs=-1)]: Using backend LokyBackend with 12 concurrent workers.\n",
      "[Parallel(n_jobs=-1)]: Done  26 tasks      | elapsed:  1.7min\n",
      "[Parallel(n_jobs=-1)]: Done 180 out of 180 | elapsed:  8.4min finished\n"
     ]
    },
    {
     "name": "stdout",
     "output_type": "stream",
     "text": [
      "Best XBG Params: {'cvec__min_df': 2, 'cvec__stop_words': 'english', 'model__max_depth': 5, 'model__min_samples_split': 2, 'model__n_estimators': 1500}\n",
      "XBG Model Training Score: 0.8760636837771067\n",
      "XBG Model Testing Score: 0.7919220055710307\n"
     ]
    }
   ],
   "source": [
    "xbg_pipe = Pipeline([\n",
    "    ('cvec', CountVectorizer()),\n",
    "    ('model', XGBClassifier())\n",
    "])\n",
    "\n",
    "xbg_params = {\n",
    "    'cvec__min_df':[2,4,6],\n",
    "    'cvec__stop_words':['english'],\n",
    "    'model__n_estimators': [700, 1500],\n",
    "    'model__min_samples_split':[2,4,6],\n",
    "    'model__max_depth':[3,5]\n",
    "}\n",
    "\n",
    "gs_xbg = GridSearchCV(xbg_pipe, param_grid=xbg_params, cv=5, n_jobs=-1, verbose=1)\n",
    "gs_xbg.fit(X_train, y_train)\n",
    "\n",
    "print(f'Best XBG Params: {gs_xbg.best_params_}')\n",
    "print(f'XBG Model Training Score: {gs_xbg.best_estimator_.score(X_train, y_train)}')\n",
    "print(f'XBG Model Testing Score: {gs_xbg.best_estimator_.score(X_test, y_test)}')"
   ]
  },
  {
   "cell_type": "markdown",
   "metadata": {},
   "source": [
    "### Voting Model"
   ]
  },
  {
   "cell_type": "code",
   "execution_count": 23,
   "metadata": {},
   "outputs": [
    {
     "name": "stderr",
     "output_type": "stream",
     "text": [
      "/anaconda3/lib/python3.7/site-packages/sklearn/linear_model/logistic.py:433: FutureWarning: Default solver will be changed to 'lbfgs' in 0.22. Specify a solver to silence this warning.\n",
      "  FutureWarning)\n"
     ]
    },
    {
     "name": "stdout",
     "output_type": "stream",
     "text": [
      "vote Model Training Score: 0.8842986549547076\n",
      "vote Model Testing Score: 0.815041782729805\n"
     ]
    }
   ],
   "source": [
    "vote_model = Pipeline([\n",
    "        ('cvec', CountVectorizer(stop_words='english', min_df=2, ngram_range=(1, 3))),     \n",
    "        ('vote', VotingClassifier(\n",
    "            estimators=[\n",
    "                (\"logreg\", LogisticRegression(penalty='l2', C=0.5)),\n",
    "                (\"xgb\", XGBClassifier(n_estimators=1500, min_samples_split = 2, max_depth= 5)), \n",
    "#                 (\"svc\", SVC(gamma='scale', kernel='rbf', C=1, probability=True)),\n",
    "                (\"nb\", MultinomialNB(alpha=1))],\n",
    "#                 (\"rf\", RandomForestClassifier(max_depth=75, min_samples_split=4, n_estimators=250))\n",
    "                    voting='soft'))\n",
    "         ])\n",
    "vote_model.fit(X_train, y_train)\n",
    "print(f'vote Model Training Score: {vote_model.score(X_train, y_train)}')\n",
    "print(f'vote Model Testing Score: {vote_model.score(X_test, y_test)}')\n",
    "\n"
   ]
  },
  {
   "cell_type": "code",
   "execution_count": 175,
   "metadata": {},
   "outputs": [],
   "source": [
    "#selected the voting classifier and saved to a pickle object file in order for testing on other data sets.\n",
    "# with open('vote_model_save2', 'wb') as f:\n",
    "#     pickle.dump(vote_model,f)\n"
   ]
  },
  {
   "cell_type": "markdown",
   "metadata": {},
   "source": [
    "### Modeling review"
   ]
  },
  {
   "cell_type": "code",
   "execution_count": 31,
   "metadata": {},
   "outputs": [
    {
     "name": "stdout",
     "output_type": "stream",
     "text": [
      "Accuracy: 0.815041782729805\n",
      "              precision    recall  f1-score   support\n",
      "\n",
      "           0       0.79      0.92      0.85      2048\n",
      "           1       0.87      0.67      0.76      1542\n",
      "\n",
      "   micro avg       0.82      0.82      0.82      3590\n",
      "   macro avg       0.83      0.80      0.80      3590\n",
      "weighted avg       0.82      0.82      0.81      3590\n",
      "\n"
     ]
    },
    {
     "data": {
      "text/html": [
       "<div>\n",
       "<style scoped>\n",
       "    .dataframe tbody tr th:only-of-type {\n",
       "        vertical-align: middle;\n",
       "    }\n",
       "\n",
       "    .dataframe tbody tr th {\n",
       "        vertical-align: top;\n",
       "    }\n",
       "\n",
       "    .dataframe thead th {\n",
       "        text-align: right;\n",
       "    }\n",
       "</style>\n",
       "<table border=\"1\" class=\"dataframe\">\n",
       "  <thead>\n",
       "    <tr style=\"text-align: right;\">\n",
       "      <th></th>\n",
       "      <th>Predicted Regular Tweets</th>\n",
       "      <th>Predicted Disaster Tweets</th>\n",
       "    </tr>\n",
       "  </thead>\n",
       "  <tbody>\n",
       "    <tr>\n",
       "      <td>Actual Regular Tweets</td>\n",
       "      <td>1892</td>\n",
       "      <td>156</td>\n",
       "    </tr>\n",
       "    <tr>\n",
       "      <td>Actual Disaster Tweets</td>\n",
       "      <td>508</td>\n",
       "      <td>1034</td>\n",
       "    </tr>\n",
       "  </tbody>\n",
       "</table>\n",
       "</div>"
      ],
      "text/plain": [
       "                        Predicted Regular Tweets  Predicted Disaster Tweets\n",
       "Actual Regular Tweets                       1892                        156\n",
       "Actual Disaster Tweets                       508                       1034"
      ]
     },
     "execution_count": 31,
     "metadata": {},
     "output_type": "execute_result"
    }
   ],
   "source": [
    "#taken from previous ATX group that did poject\n",
    "\n",
    "\n",
    "predictions = vote_model.predict(X_test)\n",
    "\n",
    "def make_nice_conmat(y_test, preds):\n",
    "\n",
    "    cmat = confusion_matrix(y_test, preds)\n",
    "    print(f'Accuracy: {accuracy_score(y_test, preds)}')\n",
    "    print(classification_report(y_test, preds))\n",
    "    return pd.DataFrame(cmat, columns=['Predicted ' + str(i) for i in ['Regular Tweets','Disaster Tweets']],\\\n",
    "            index=['Actual ' + str(i) for i in ['Regular Tweets','Disaster Tweets']])\n",
    "\n",
    "make_nice_conmat(y_test, predictions)"
   ]
  },
  {
   "cell_type": "markdown",
   "metadata": {},
   "source": [
    "#### We can see that the model is a little higher than we would habve hoped it would be for its predictions of regular tweets that were actually disaster tweets. That 20% error in total accuracy makes for some improvement to be desired, however the overall score is almost 30% higher than the baseline. \n",
    "\n",
    "To further explore the accuracy of the model we took some other labeled datasets that focused on disaster scenarios to gauge the overall model's prediction abilities.\n",
    "- This can be viewed in the **\"Model Accuracy Testing\"** notebook."
   ]
  },
  {
   "cell_type": "markdown",
   "metadata": {},
   "source": [
    "### EDA\n",
    "\n",
    "- This just looks at a little bit of the words used in the training data set for the predictive model. For more EDA on the Harvey dataset see the notebook called \"Harvey Day by Day EDA\"."
   ]
  },
  {
   "cell_type": "code",
   "execution_count": 12,
   "metadata": {},
   "outputs": [],
   "source": [
    "#set up the countvectorizer and created a dataframe of all the words in order to view the most common words.\n",
    "cvec = CountVectorizer(stop_words='english', min_df=2, ngram_range = (1,3))\n",
    "\n",
    "data_features = pd.DataFrame(cvec.fit_transform(X).todense(), \n",
    "                             columns=cvec.get_feature_names())"
   ]
  },
  {
   "cell_type": "code",
   "execution_count": 19,
   "metadata": {},
   "outputs": [
    {
     "data": {
      "image/png": "[encoded data removed]",
      "text/plain": [
       "<Figure size 540x432 with 1 Axes>"
      ]
     },
     "metadata": {
      "needs_background": "light"
     },
     "output_type": "display_data"
    }
   ],
   "source": [
    "#Plotting the most common words used in the model training \n",
    "fig, (ax1) = plt.subplots(ncols=1, figsize = (7.5, 6))\n",
    "\n",
    "\n",
    "data_features.loc[:, words[:25]].sum().plot.barh(ax = ax1, title = 'Training Model: Common Words', color = '#EB6E1F');"
   ]
  },
  {
   "cell_type": "markdown",
   "metadata": {},
   "source": [
    "### Applying model to Harvey Dataset."
   ]
  },
  {
   "cell_type": "code",
   "execution_count": 3,
   "metadata": {},
   "outputs": [],
   "source": [
    "#reading in model\n",
    "harvey_df = pd.read_csv('../datasets/Hurricane_Harvey - Kaggle.csv', encoding=\"ISO-8859-1\")"
   ]
  },
  {
   "cell_type": "code",
   "execution_count": 4,
   "metadata": {},
   "outputs": [
    {
     "data": {
      "text/plain": [
       "Index(['Unnamed: 0', 'ID', 'Likes', 'Replies', 'Retweets', 'Time', 'Tweet'], dtype='object')"
      ]
     },
     "execution_count": 4,
     "metadata": {},
     "output_type": "execute_result"
    }
   ],
   "source": [
    "harvey_df.columns"
   ]
  },
  {
   "cell_type": "code",
   "execution_count": 5,
   "metadata": {},
   "outputs": [],
   "source": [
    "harvey_df.drop(axis = 1, columns=['Unnamed: 0', 'Likes', 'Replies', 'Retweets', 'Time'], inplace=True)"
   ]
  },
  {
   "cell_type": "code",
   "execution_count": 6,
   "metadata": {},
   "outputs": [
    {
     "data": {
      "text/plain": [
       "(399406, 2)"
      ]
     },
     "execution_count": 6,
     "metadata": {},
     "output_type": "execute_result"
    }
   ],
   "source": [
    "harvey_df.shape"
   ]
  },
  {
   "cell_type": "code",
   "execution_count": 7,
   "metadata": {},
   "outputs": [
    {
     "data": {
      "text/plain": [
       "ID       472\n",
       "Tweet    490\n",
       "dtype: int64"
      ]
     },
     "execution_count": 7,
     "metadata": {},
     "output_type": "execute_result"
    }
   ],
   "source": [
    "harvey_df.isna().sum()"
   ]
  },
  {
   "cell_type": "code",
   "execution_count": 8,
   "metadata": {},
   "outputs": [],
   "source": [
    "#dropping nan values. There is more than enough data in the dataset to\n",
    "#afford dropping what is classified as nan above.\n",
    "harvey_df.dropna(inplace=True)"
   ]
  },
  {
   "cell_type": "code",
   "execution_count": 9,
   "metadata": {},
   "outputs": [],
   "source": [
    "#applied regex from Doug in order to clean the data.\n",
    "harvey_df['Tweet'] = harvey_df['Tweet'].map(lambda x: x.lower())\n",
    "harvey_df['Tweet'] = harvey_df['Tweet'].map(lambda x: re.sub('\\s[\\/]?r\\/[^s]+', ' ', x))\n",
    "harvey_df['Tweet'] = harvey_df['Tweet'].map(lambda x: re.sub('http[s]?:\\/\\/[^\\s]*', ' ', x))\n",
    "harvey_df['Tweet'] = harvey_df['Tweet'].str.replace('[^\\w\\s#@/:%.,_-]', '', flags=re.UNICODE)"
   ]
  },
  {
   "cell_type": "code",
   "execution_count": 10,
   "metadata": {},
   "outputs": [],
   "source": [
    "#opened the saved model from before to make predictions\n",
    "with open('vote_model_save2', 'rb') as f:\n",
    "    trained_model3 = pickle.load(f)"
   ]
  },
  {
   "cell_type": "code",
   "execution_count": 11,
   "metadata": {},
   "outputs": [],
   "source": [
    "#applied model and created column in the dataframe to see the model's predictions\n",
    "harvey_df['predictions'] = trained_model3.predict(harvey_df['Tweet'])"
   ]
  },
  {
   "cell_type": "markdown",
   "metadata": {},
   "source": [
    "#### We can see below that the model is not quite as accurate as when applied to other testing datasets. "
   ]
  },
  {
   "cell_type": "code",
   "execution_count": 12,
   "metadata": {},
   "outputs": [
    {
     "data": {
      "text/plain": [
       "1    0.583078\n",
       "0    0.416922\n",
       "Name: predictions, dtype: float64"
      ]
     },
     "execution_count": 12,
     "metadata": {},
     "output_type": "execute_result"
    }
   ],
   "source": [
    "harvey_df['predictions'].value_counts(normalize=True)"
   ]
  },
  {
   "cell_type": "code",
   "execution_count": 13,
   "metadata": {},
   "outputs": [
    {
     "data": {
      "text/plain": [
       "1    232599\n",
       "0    166317\n",
       "Name: predictions, dtype: int64"
      ]
     },
     "execution_count": 13,
     "metadata": {},
     "output_type": "execute_result"
    }
   ],
   "source": [
    "harvey_df['predictions'].value_counts()"
   ]
  },
  {
   "cell_type": "code",
   "execution_count": 14,
   "metadata": {},
   "outputs": [],
   "source": [
    "#created dataframes to save to csvs to seperate tweets classified by the model as\n",
    "#disaster tweets or not.\n",
    "non_disaster_pred = harvey_df[harvey_df['predictions'] ==0]\n",
    "disaster_pred = harvey_df[harvey_df['predictions'] ==1]"
   ]
  },
  {
   "cell_type": "code",
   "execution_count": 15,
   "metadata": {},
   "outputs": [],
   "source": [
    "# disaster_pred.to_csv('../datasets/disaster_tweets.csv', index=False)\n",
    "\n",
    "# non_disaster_pred.to_csv('../datasets/normal_tweets.csv', index = False)"
   ]
  },
  {
   "cell_type": "markdown",
   "metadata": {},
   "source": [
    "### EDA on the seperate predicted tweet sets"
   ]
  },
  {
   "cell_type": "code",
   "execution_count": 30,
   "metadata": {},
   "outputs": [],
   "source": [
    "#reading in tweets that were predicted to be disaster tweets\n",
    "disaster_df = pd.read_csv('../datasets/disaster_tweets.csv')"
   ]
  },
  {
   "cell_type": "code",
   "execution_count": 31,
   "metadata": {},
   "outputs": [],
   "source": [
    "disaster_df.dropna(inplace=True)"
   ]
  },
  {
   "cell_type": "code",
   "execution_count": 35,
   "metadata": {},
   "outputs": [],
   "source": [
    "#reading in tweets that were preidted to be non-disaster tweets\n",
    "regular_df = pd.read_csv('../datasets/normal_tweets.csv')"
   ]
  },
  {
   "cell_type": "code",
   "execution_count": 36,
   "metadata": {},
   "outputs": [],
   "source": [
    "regular_df.dropna(inplace=True)"
   ]
  },
  {
   "cell_type": "code",
   "execution_count": 37,
   "metadata": {},
   "outputs": [],
   "source": [
    "#creating variables to run through CountVectorizer for EDA\n",
    "X_disaster = disaster_df['Tweet']\n",
    "\n",
    "X_regular = regular_df['Tweet']"
   ]
  },
  {
   "cell_type": "code",
   "execution_count": 38,
   "metadata": {},
   "outputs": [],
   "source": [
    "# created countvectorized dataframe to see the number of instances of words for EDA\n",
    "data_features_disaster = pd.DataFrame(cvec.fit_transform(X_disaster).todense(), \n",
    "                             columns=cvec.get_feature_names())\n",
    "\n",
    "data_features_regular = pd.DataFrame(cvec.fit_transform(X_regular).todense(), \n",
    "                             columns=cvec.get_feature_names())\n",
    "#create list \n",
    "words_disaster = data_features_disaster.sum().sort_values(ascending=False).head(1000).index\n",
    "words_regular = data_features_regular.sum().sort_values(ascending=False).head(1000).index"
   ]
  },
  {
   "cell_type": "code",
   "execution_count": 39,
   "metadata": {},
   "outputs": [],
   "source": [
    "common_words_disaster = data_features_disaster.sum().sort_values(ascending = False)[1:25].index\n",
    "common_words_regular = data_features_regular.sum().sort_values(ascending = False)[1:25].index"
   ]
  },
  {
   "cell_type": "code",
   "execution_count": 40,
   "metadata": {},
   "outputs": [
    {
     "data": {
      "text/plain": [
       "Index(['harvey', 'hurricane harvey', 'texas', 'twitter', 'com', 'twitter com',\n",
       "       'storm', 'pic', 'pic twitter', 'pic twitter com', 'category',\n",
       "       'hurricaneharvey', 'landfall', 'coast', 'news', 'winds', 'trump',\n",
       "       'live', 'safe', 'category storm', 'path', 'mph', 'houston',\n",
       "       'texas coast'],\n",
       "      dtype='object')"
      ]
     },
     "execution_count": 40,
     "metadata": {},
     "output_type": "execute_result"
    }
   ],
   "source": [
    "common_words_disaster"
   ]
  },
  {
   "cell_type": "code",
   "execution_count": 41,
   "metadata": {},
   "outputs": [
    {
     "data": {
      "text/plain": [
       "Index(['harvey', 'hurricane harvey', 'hurricaneharvey', 'twitter', 'com',\n",
       "       'twitter com', 'pic', 'pic twitter com', 'pic twitter', 'trump',\n",
       "       'texas', 'space', 'just', 'safe', 'seen', 'station', 'space station',\n",
       "       'harvey seen', 'hurricane harvey seen', 'international',\n",
       "       'international space', 'international space station', 'cupola',\n",
       "       'seen cupola'],\n",
       "      dtype='object')"
      ]
     },
     "execution_count": 41,
     "metadata": {},
     "output_type": "execute_result"
    }
   ],
   "source": [
    "common_words_regular"
   ]
  },
  {
   "cell_type": "code",
   "execution_count": 42,
   "metadata": {},
   "outputs": [
    {
     "data": {
      "image/png": "[encoded data removed]",
      "text/plain": [
       "<Figure size 1080x432 with 2 Axes>"
      ]
     },
     "metadata": {
      "needs_background": "light"
     },
     "output_type": "display_data"
    }
   ],
   "source": [
    "#took the common words and applied them to city specific sub-dataframes of the countvectorized data_features \n",
    "fig, (ax1, ax2) = plt.subplots(ncols=2, figsize = (15, 6))\n",
    "\n",
    "data_features_disaster.loc[:, common_words_disaster].sum().plot.barh(ax = ax1, title = 'Predicted Disaster Tweets', color = '#002D62'),\n",
    "\n",
    "data_features_regular.loc[:, common_words_regular].sum().plot.barh(ax = ax2, title = 'Predicted Normal Tweets', color = '#EB6E1F'),\n",
    "\n",
    "fig.suptitle('Common Words', fontsize=18)\n",
    "plt.tight_layout();"
   ]
  },
  {
   "cell_type": "markdown",
   "metadata": {},
   "source": [
    "#### inspecting the graphs its hard to see much difference between the datasets. We ended up taking each predicted class' tweets and randomly sampling it down to 10,000 each. From there we were able to see that the primary reason a tweet was classified as being a \"disaster\" tweet had to do with key words being used more than once in each tweet. \n",
    "\n",
    "\n",
    "\n",
    "#### From here we got stuck and tried to come up with different ideas that did not have the succesful outcomes we wanted. We were hoping that the model would have done a better job at helping find tweets that could be seen as urgent. Having 228,000 to sort through was just an unfesibile task. What we utlimately settled on for an idea with was to take the dataset that the model predicted to be disaster tweets and loop through a list of words that might be deemed to be used by people in crisis."
   ]
  },
  {
   "cell_type": "code",
   "execution_count": 17,
   "metadata": {
    "scrolled": true
   },
   "outputs": [
    {
     "ename": "KeyError",
     "evalue": "\"['predictions'] not found in axis\"",
     "output_type": "error",
     "traceback": [
      "\u001b[0;31m---------------------------------------------------------------------------\u001b[0m",
      "\u001b[0;31mKeyError\u001b[0m                                  Traceback (most recent call last)",
      "\u001b[0;32m<ipython-input-17-43385ac89bf4>\u001b[0m in \u001b[0;36m<module>\u001b[0;34m\u001b[0m\n\u001b[0;32m----> 1\u001b[0;31m \u001b[0mdisaster_pred\u001b[0m\u001b[0;34m.\u001b[0m\u001b[0mdrop\u001b[0m\u001b[0;34m(\u001b[0m\u001b[0maxis\u001b[0m\u001b[0;34m=\u001b[0m\u001b[0;36m1\u001b[0m\u001b[0;34m,\u001b[0m \u001b[0mcolumns\u001b[0m\u001b[0;34m=\u001b[0m\u001b[0;34m[\u001b[0m\u001b[0;34m'predictions'\u001b[0m\u001b[0;34m]\u001b[0m\u001b[0;34m,\u001b[0m \u001b[0minplace\u001b[0m\u001b[0;34m=\u001b[0m\u001b[0;32mTrue\u001b[0m\u001b[0;34m)\u001b[0m\u001b[0;34m\u001b[0m\u001b[0;34m\u001b[0m\u001b[0m\n\u001b[0m",
      "\u001b[0;32m/anaconda3/lib/python3.7/site-packages/pandas/core/frame.py\u001b[0m in \u001b[0;36mdrop\u001b[0;34m(self, labels, axis, index, columns, level, inplace, errors)\u001b[0m\n\u001b[1;32m   4100\u001b[0m             \u001b[0mlevel\u001b[0m\u001b[0;34m=\u001b[0m\u001b[0mlevel\u001b[0m\u001b[0;34m,\u001b[0m\u001b[0;34m\u001b[0m\u001b[0;34m\u001b[0m\u001b[0m\n\u001b[1;32m   4101\u001b[0m             \u001b[0minplace\u001b[0m\u001b[0;34m=\u001b[0m\u001b[0minplace\u001b[0m\u001b[0;34m,\u001b[0m\u001b[0;34m\u001b[0m\u001b[0;34m\u001b[0m\u001b[0m\n\u001b[0;32m-> 4102\u001b[0;31m             \u001b[0merrors\u001b[0m\u001b[0;34m=\u001b[0m\u001b[0merrors\u001b[0m\u001b[0;34m,\u001b[0m\u001b[0;34m\u001b[0m\u001b[0;34m\u001b[0m\u001b[0m\n\u001b[0m\u001b[1;32m   4103\u001b[0m         )\n\u001b[1;32m   4104\u001b[0m \u001b[0;34m\u001b[0m\u001b[0m\n",
      "\u001b[0;32m/anaconda3/lib/python3.7/site-packages/pandas/core/generic.py\u001b[0m in \u001b[0;36mdrop\u001b[0;34m(self, labels, axis, index, columns, level, inplace, errors)\u001b[0m\n\u001b[1;32m   3912\u001b[0m         \u001b[0;32mfor\u001b[0m \u001b[0maxis\u001b[0m\u001b[0;34m,\u001b[0m \u001b[0mlabels\u001b[0m \u001b[0;32min\u001b[0m \u001b[0maxes\u001b[0m\u001b[0;34m.\u001b[0m\u001b[0mitems\u001b[0m\u001b[0;34m(\u001b[0m\u001b[0;34m)\u001b[0m\u001b[0;34m:\u001b[0m\u001b[0;34m\u001b[0m\u001b[0;34m\u001b[0m\u001b[0m\n\u001b[1;32m   3913\u001b[0m             \u001b[0;32mif\u001b[0m \u001b[0mlabels\u001b[0m \u001b[0;32mis\u001b[0m \u001b[0;32mnot\u001b[0m \u001b[0;32mNone\u001b[0m\u001b[0;34m:\u001b[0m\u001b[0;34m\u001b[0m\u001b[0;34m\u001b[0m\u001b[0m\n\u001b[0;32m-> 3914\u001b[0;31m                 \u001b[0mobj\u001b[0m \u001b[0;34m=\u001b[0m \u001b[0mobj\u001b[0m\u001b[0;34m.\u001b[0m\u001b[0m_drop_axis\u001b[0m\u001b[0;34m(\u001b[0m\u001b[0mlabels\u001b[0m\u001b[0;34m,\u001b[0m \u001b[0maxis\u001b[0m\u001b[0;34m,\u001b[0m \u001b[0mlevel\u001b[0m\u001b[0;34m=\u001b[0m\u001b[0mlevel\u001b[0m\u001b[0;34m,\u001b[0m \u001b[0merrors\u001b[0m\u001b[0;34m=\u001b[0m\u001b[0merrors\u001b[0m\u001b[0;34m)\u001b[0m\u001b[0;34m\u001b[0m\u001b[0;34m\u001b[0m\u001b[0m\n\u001b[0m\u001b[1;32m   3915\u001b[0m \u001b[0;34m\u001b[0m\u001b[0m\n\u001b[1;32m   3916\u001b[0m         \u001b[0;32mif\u001b[0m \u001b[0minplace\u001b[0m\u001b[0;34m:\u001b[0m\u001b[0;34m\u001b[0m\u001b[0;34m\u001b[0m\u001b[0m\n",
      "\u001b[0;32m/anaconda3/lib/python3.7/site-packages/pandas/core/generic.py\u001b[0m in \u001b[0;36m_drop_axis\u001b[0;34m(self, labels, axis, level, errors)\u001b[0m\n\u001b[1;32m   3944\u001b[0m                 \u001b[0mnew_axis\u001b[0m \u001b[0;34m=\u001b[0m \u001b[0maxis\u001b[0m\u001b[0;34m.\u001b[0m\u001b[0mdrop\u001b[0m\u001b[0;34m(\u001b[0m\u001b[0mlabels\u001b[0m\u001b[0;34m,\u001b[0m \u001b[0mlevel\u001b[0m\u001b[0;34m=\u001b[0m\u001b[0mlevel\u001b[0m\u001b[0;34m,\u001b[0m \u001b[0merrors\u001b[0m\u001b[0;34m=\u001b[0m\u001b[0merrors\u001b[0m\u001b[0;34m)\u001b[0m\u001b[0;34m\u001b[0m\u001b[0;34m\u001b[0m\u001b[0m\n\u001b[1;32m   3945\u001b[0m             \u001b[0;32melse\u001b[0m\u001b[0;34m:\u001b[0m\u001b[0;34m\u001b[0m\u001b[0;34m\u001b[0m\u001b[0m\n\u001b[0;32m-> 3946\u001b[0;31m                 \u001b[0mnew_axis\u001b[0m \u001b[0;34m=\u001b[0m \u001b[0maxis\u001b[0m\u001b[0;34m.\u001b[0m\u001b[0mdrop\u001b[0m\u001b[0;34m(\u001b[0m\u001b[0mlabels\u001b[0m\u001b[0;34m,\u001b[0m \u001b[0merrors\u001b[0m\u001b[0;34m=\u001b[0m\u001b[0merrors\u001b[0m\u001b[0;34m)\u001b[0m\u001b[0;34m\u001b[0m\u001b[0;34m\u001b[0m\u001b[0m\n\u001b[0m\u001b[1;32m   3947\u001b[0m             \u001b[0mresult\u001b[0m \u001b[0;34m=\u001b[0m \u001b[0mself\u001b[0m\u001b[0;34m.\u001b[0m\u001b[0mreindex\u001b[0m\u001b[0;34m(\u001b[0m\u001b[0;34m**\u001b[0m\u001b[0;34m{\u001b[0m\u001b[0maxis_name\u001b[0m\u001b[0;34m:\u001b[0m \u001b[0mnew_axis\u001b[0m\u001b[0;34m}\u001b[0m\u001b[0;34m)\u001b[0m\u001b[0;34m\u001b[0m\u001b[0;34m\u001b[0m\u001b[0m\n\u001b[1;32m   3948\u001b[0m \u001b[0;34m\u001b[0m\u001b[0m\n",
      "\u001b[0;32m/anaconda3/lib/python3.7/site-packages/pandas/core/indexes/base.py\u001b[0m in \u001b[0;36mdrop\u001b[0;34m(self, labels, errors)\u001b[0m\n\u001b[1;32m   5338\u001b[0m         \u001b[0;32mif\u001b[0m \u001b[0mmask\u001b[0m\u001b[0;34m.\u001b[0m\u001b[0many\u001b[0m\u001b[0;34m(\u001b[0m\u001b[0;34m)\u001b[0m\u001b[0;34m:\u001b[0m\u001b[0;34m\u001b[0m\u001b[0;34m\u001b[0m\u001b[0m\n\u001b[1;32m   5339\u001b[0m             \u001b[0;32mif\u001b[0m \u001b[0merrors\u001b[0m \u001b[0;34m!=\u001b[0m \u001b[0;34m\"ignore\"\u001b[0m\u001b[0;34m:\u001b[0m\u001b[0;34m\u001b[0m\u001b[0;34m\u001b[0m\u001b[0m\n\u001b[0;32m-> 5340\u001b[0;31m                 \u001b[0;32mraise\u001b[0m \u001b[0mKeyError\u001b[0m\u001b[0;34m(\u001b[0m\u001b[0;34m\"{} not found in axis\"\u001b[0m\u001b[0;34m.\u001b[0m\u001b[0mformat\u001b[0m\u001b[0;34m(\u001b[0m\u001b[0mlabels\u001b[0m\u001b[0;34m[\u001b[0m\u001b[0mmask\u001b[0m\u001b[0;34m]\u001b[0m\u001b[0;34m)\u001b[0m\u001b[0;34m)\u001b[0m\u001b[0;34m\u001b[0m\u001b[0;34m\u001b[0m\u001b[0m\n\u001b[0m\u001b[1;32m   5341\u001b[0m             \u001b[0mindexer\u001b[0m \u001b[0;34m=\u001b[0m \u001b[0mindexer\u001b[0m\u001b[0;34m[\u001b[0m\u001b[0;34m~\u001b[0m\u001b[0mmask\u001b[0m\u001b[0;34m]\u001b[0m\u001b[0;34m\u001b[0m\u001b[0;34m\u001b[0m\u001b[0m\n\u001b[1;32m   5342\u001b[0m         \u001b[0;32mreturn\u001b[0m \u001b[0mself\u001b[0m\u001b[0;34m.\u001b[0m\u001b[0mdelete\u001b[0m\u001b[0;34m(\u001b[0m\u001b[0mindexer\u001b[0m\u001b[0;34m)\u001b[0m\u001b[0;34m\u001b[0m\u001b[0;34m\u001b[0m\u001b[0m\n",
      "\u001b[0;31mKeyError\u001b[0m: \"['predictions'] not found in axis\""
     ]
    }
   ],
   "source": [
    "#dropping the predictions column from the created disaster_pred dataframe\n",
    "#Accidently ran this twice ...\n",
    "disaster_pred.drop(axis=1, columns=['predictions'], inplace=True)"
   ]
  },
  {
   "cell_type": "code",
   "execution_count": 18,
   "metadata": {},
   "outputs": [
    {
     "data": {
      "text/html": [
       "<div>\n",
       "<style scoped>\n",
       "    .dataframe tbody tr th:only-of-type {\n",
       "        vertical-align: middle;\n",
       "    }\n",
       "\n",
       "    .dataframe tbody tr th {\n",
       "        vertical-align: top;\n",
       "    }\n",
       "\n",
       "    .dataframe thead th {\n",
       "        text-align: right;\n",
       "    }\n",
       "</style>\n",
       "<table border=\"1\" class=\"dataframe\">\n",
       "  <thead>\n",
       "    <tr style=\"text-align: right;\">\n",
       "      <th></th>\n",
       "      <th>ID</th>\n",
       "      <th>Tweet</th>\n",
       "    </tr>\n",
       "  </thead>\n",
       "  <tbody>\n",
       "    <tr>\n",
       "      <td>4</td>\n",
       "      <td>9.010000e+17</td>\n",
       "      <td>the name of the hurricane is harvey ... steve ...</td>\n",
       "    </tr>\n",
       "    <tr>\n",
       "      <td>7</td>\n",
       "      <td>9.010000e+17</td>\n",
       "      <td>summary for hurricane harvey at4/al092017</td>\n",
       "    </tr>\n",
       "    <tr>\n",
       "      <td>8</td>\n",
       "      <td>9.010000e+17</td>\n",
       "      <td>nasa: rt esa_eo: just in #sentinel3 measures #...</td>\n",
       "    </tr>\n",
       "    <tr>\n",
       "      <td>9</td>\n",
       "      <td>9.010000e+17</td>\n",
       "      <td>life-threatening hurricane harvey heads toward...</td>\n",
       "    </tr>\n",
       "    <tr>\n",
       "      <td>11</td>\n",
       "      <td>9.010000e+17</td>\n",
       "      <td>everyone, please pray for texas. hurricane har...</td>\n",
       "    </tr>\n",
       "    <tr>\n",
       "      <td>...</td>\n",
       "      <td>...</td>\n",
       "      <td>...</td>\n",
       "    </tr>\n",
       "    <tr>\n",
       "      <td>399400</td>\n",
       "      <td>9.030000e+17</td>\n",
       "      <td>salvation army in texas responds to catastroph...</td>\n",
       "    </tr>\n",
       "    <tr>\n",
       "      <td>399401</td>\n",
       "      <td>9.030000e+17</td>\n",
       "      <td>lawyers wanting to provide pro bono help in th...</td>\n",
       "    </tr>\n",
       "    <tr>\n",
       "      <td>399402</td>\n",
       "      <td>9.030000e+17</td>\n",
       "      <td>hurricane harvey: alabamas largest church alre...</td>\n",
       "    </tr>\n",
       "    <tr>\n",
       "      <td>399404</td>\n",
       "      <td>9.030000e+17</td>\n",
       "      <td>our thoughts are with our neighbors in the sou...</td>\n",
       "    </tr>\n",
       "    <tr>\n",
       "      <td>399405</td>\n",
       "      <td>9.030000e+17</td>\n",
       "      <td>marylanders head to texas to assist with hurri...</td>\n",
       "    </tr>\n",
       "  </tbody>\n",
       "</table>\n",
       "<p>232599 rows × 2 columns</p>\n",
       "</div>"
      ],
      "text/plain": [
       "                  ID                                              Tweet\n",
       "4       9.010000e+17  the name of the hurricane is harvey ... steve ...\n",
       "7       9.010000e+17       summary for hurricane harvey at4/al092017   \n",
       "8       9.010000e+17  nasa: rt esa_eo: just in #sentinel3 measures #...\n",
       "9       9.010000e+17  life-threatening hurricane harvey heads toward...\n",
       "11      9.010000e+17  everyone, please pray for texas. hurricane har...\n",
       "...              ...                                                ...\n",
       "399400  9.030000e+17  salvation army in texas responds to catastroph...\n",
       "399401  9.030000e+17  lawyers wanting to provide pro bono help in th...\n",
       "399402  9.030000e+17  hurricane harvey: alabamas largest church alre...\n",
       "399404  9.030000e+17  our thoughts are with our neighbors in the sou...\n",
       "399405  9.030000e+17  marylanders head to texas to assist with hurri...\n",
       "\n",
       "[232599 rows x 2 columns]"
      ]
     },
     "execution_count": 18,
     "metadata": {},
     "output_type": "execute_result"
    }
   ],
   "source": [
    "disaster_pred"
   ]
  },
  {
   "cell_type": "code",
   "execution_count": 20,
   "metadata": {},
   "outputs": [],
   "source": [
    "#list used to loop through in hopes of finding urgent tweets\n",
    "emer_list = ['burning',\n",
    "'distruction',\n",
    "'blood',\n",
    "'bleeding',\n",
    "'hurt',\n",
    "'die',\n",
    "'dying',\n",
    "'dead',\n",
    "'death',\n",
    "'drowning',\n",
    "'flood'\n",
    "'flooding',\n",
    "'trapped',\n",
    "'stuck',\n",
    "'help',\n",
    "'roof',\n",
    "'injured',\n",
    "'sick',\n",
    "'scared',\n",
    "'missing',\n",
    "'rescue']"
   ]
  },
  {
   "cell_type": "code",
   "execution_count": 21,
   "metadata": {},
   "outputs": [
    {
     "name": "stderr",
     "output_type": "stream",
     "text": [
      "/anaconda3/lib/python3.7/site-packages/ipykernel_launcher.py:2: SettingWithCopyWarning: \n",
      "A value is trying to be set on a copy of a slice from a DataFrame.\n",
      "Try using .loc[row_indexer,col_indexer] = value instead\n",
      "\n",
      "See the caveats in the documentation: http://pandas.pydata.org/pandas-docs/stable/user_guide/indexing.html#returning-a-view-versus-a-copy\n",
      "  \n"
     ]
    }
   ],
   "source": [
    "#taken from previous ATX group https://github.com/eamonious/disaster-tweet-classification\n",
    "disaster_pred['urgent'] = disaster_pred['Tweet'].map(lambda x: 1 if sum([x.find(i) + 1 for i in emer_list])>0 else 0)"
   ]
  },
  {
   "cell_type": "code",
   "execution_count": 22,
   "metadata": {},
   "outputs": [
    {
     "data": {
      "text/plain": [
       "0    218681\n",
       "1     13918\n",
       "Name: urgent, dtype: int64"
      ]
     },
     "execution_count": 22,
     "metadata": {},
     "output_type": "execute_result"
    }
   ],
   "source": [
    "disaster_pred['urgent'].value_counts()"
   ]
  },
  {
   "cell_type": "code",
   "execution_count": 23,
   "metadata": {},
   "outputs": [],
   "source": [
    "urgent_tweets = disaster_pred[disaster_pred['urgent'] == 1]"
   ]
  },
  {
   "cell_type": "code",
   "execution_count": 24,
   "metadata": {},
   "outputs": [],
   "source": [
    "# urgent_tweets.to_csv('../datasets/urgent_tweets.csv', index=False)"
   ]
  },
  {
   "cell_type": "code",
   "execution_count": 25,
   "metadata": {},
   "outputs": [],
   "source": [
    "X_urgent = urgent_tweets['Tweet']"
   ]
  },
  {
   "cell_type": "code",
   "execution_count": 26,
   "metadata": {},
   "outputs": [],
   "source": [
    "cvec = CountVectorizer(stop_words='english', min_df=2, ngram_range = (1,3), max_features=1500)\n",
    "\n",
    "data_features_urgent = pd.DataFrame(cvec.fit_transform(X_urgent).todense(), \n",
    "                             columns=cvec.get_feature_names())\n",
    "\n",
    "words_disaster = data_features_urgent.sum().sort_values(ascending=False).head(1000).index"
   ]
  },
  {
   "cell_type": "code",
   "execution_count": 27,
   "metadata": {},
   "outputs": [
    {
     "data": {
      "text/plain": [
       "Index(['hurricane', 'harvey', 'hurricane harvey', 'help', 'texas', 'victims',\n",
       "       'twitter', 'com', 'twitter com', 'pic', 'pic twitter com',\n",
       "       'pic twitter', 'help victims', 'storm', 'victims hurricane',\n",
       "       'victims hurricane harvey', 'people', 'help hurricane',\n",
       "       'help victims hurricane', 'dead', 'help hurricane harvey', 'death',\n",
       "       'heres', 'stuck', 'houston'],\n",
       "      dtype='object')"
      ]
     },
     "execution_count": 27,
     "metadata": {},
     "output_type": "execute_result"
    }
   ],
   "source": [
    "words_disaster[:25]"
   ]
  },
  {
   "cell_type": "code",
   "execution_count": 28,
   "metadata": {},
   "outputs": [
    {
     "data": {
      "image/png": "[encoded data removed]",
      "text/plain": [
       "<Figure size 540x432 with 1 Axes>"
      ]
     },
     "metadata": {
      "needs_background": "light"
     },
     "output_type": "display_data"
    }
   ],
   "source": [
    "fig, (ax1) = plt.subplots(ncols=1, figsize = (7.5, 6))\n",
    "\n",
    "\n",
    "data_features_urgent.loc[:, words_disaster[:25]].sum().plot.barh(ax = ax1, title = 'Predicted Disaster Tweets: \\\"URGENT\\\"', color = '#002D62');"
   ]
  },
  {
   "cell_type": "markdown",
   "metadata": {},
   "source": [
    "### Utlimately the project needs a few more steps to be successful. The model looks like it has some promise, but there neeeds to be some better itterations in order to improve its ability to find \"urgent\" tweets on it's own. After looking through the urgent tweet set, it was clear it filtered out more of the news stories and retweets to find more real people's tweets. However it still was not effective enough."
   ]
  },
  {
   "cell_type": "code",
   "execution_count": null,
   "metadata": {},
   "outputs": [],
   "source": []
  },
  {
   "cell_type": "code",
   "execution_count": null,
   "metadata": {},
   "outputs": [],
   "source": []
  },
  {
   "cell_type": "code",
   "execution_count": null,
   "metadata": {},
   "outputs": [],
   "source": []
  },
  {
   "cell_type": "code",
   "execution_count": null,
   "metadata": {},
   "outputs": [],
   "source": []
  }
 ],
 "metadata": {
  "kernelspec": {
   "display_name": "Python 3",
   "language": "python",
   "name": "python3"
  },
  "language_info": {
   "codemirror_mode": {
    "name": "ipython",
    "version": 3
   },
   "file_extension": ".py",
   "mimetype": "text/x-python",
   "name": "python",
   "nbconvert_exporter": "python",
   "pygments_lexer": "ipython3",
   "version": "3.7.3"
  }
 },
 "nbformat": 4,
 "nbformat_minor": 2
}
