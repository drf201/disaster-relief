{
 "cells": [
  {
   "cell_type": "code",
   "execution_count": 1,
   "metadata": {},
   "outputs": [],
   "source": [
    "import pandas as pd\n",
    "import numpy as np\n",
    "import re\n",
    "from sklearn.model_selection import train_test_split, GridSearchCV, cross_val_score\n",
    "from sklearn.linear_model import LogisticRegressionCV, LogisticRegression\n",
    "from sklearn.feature_extraction.text import CountVectorizer, ENGLISH_STOP_WORDS, TfidfVectorizer\n",
    "from sklearn.naive_bayes import MultinomialNB\n",
    "from sklearn.tree import DecisionTreeClassifier\n",
    "from sklearn.ensemble import RandomForestClassifier, BaggingClassifier, AdaBoostClassifier, VotingClassifier\n",
    "from sklearn.naive_bayes import MultinomialNB\n",
    "from xgboost import XGBClassifier\n",
    "from sklearn.svm import SVC\n",
    "from nltk.corpus import stopwords\n",
    "from sklearn.metrics import confusion_matrix, classification_report, accuracy_score\n",
    "from sklearn.pipeline import Pipeline\n",
    "import matplotlib.pyplot as plt \n",
    "import seaborn as sns \n",
    "import pickle \n",
    "from datetime import datetime"
   ]
  },
  {
   "cell_type": "markdown",
   "metadata": {},
   "source": [
    "### This notebook's purpose is to divide the harvey dataset into days and run an analysis for most common words by tweets"
   ]
  },
  {
   "cell_type": "code",
   "execution_count": 2,
   "metadata": {},
   "outputs": [],
   "source": [
    "harvey_df = pd.read_csv('Hurricane_Harvey - Kaggle.csv', encoding=\"ISO-8859-1\")"
   ]
  },
  {
   "cell_type": "code",
   "execution_count": 3,
   "metadata": {},
   "outputs": [
    {
     "data": {
      "text/plain": [
       "Unnamed: 0    float64\n",
       "ID            float64\n",
       "Likes         float64\n",
       "Replies       float64\n",
       "Retweets      float64\n",
       "Time           object\n",
       "Tweet          object\n",
       "dtype: object"
      ]
     },
     "execution_count": 3,
     "metadata": {},
     "output_type": "execute_result"
    }
   ],
   "source": [
    "harvey_df.dtypes"
   ]
  },
  {
   "cell_type": "code",
   "execution_count": 5,
   "metadata": {},
   "outputs": [
    {
     "data": {
      "text/plain": [
       "Unnamed: 0    472\n",
       "ID            472\n",
       "Likes         539\n",
       "Replies       539\n",
       "Retweets      539\n",
       "Time          472\n",
       "Tweet         490\n",
       "dtype: int64"
      ]
     },
     "execution_count": 5,
     "metadata": {},
     "output_type": "execute_result"
    }
   ],
   "source": [
    "harvey_df.isna().sum()"
   ]
  },
  {
   "cell_type": "code",
   "execution_count": 6,
   "metadata": {},
   "outputs": [],
   "source": [
    "harvey_df.dropna(inplace=True)"
   ]
  },
  {
   "cell_type": "code",
   "execution_count": 7,
   "metadata": {},
   "outputs": [],
   "source": [
    "harvey_df['Tweet'] = harvey_df['Tweet'].map(lambda x: x.lower())\n",
    "harvey_df['Tweet'] = harvey_df['Tweet'].map(lambda x: re.sub('\\s[\\/]?r\\/[^s]+', ' ', x))\n",
    "harvey_df['Tweet'] = harvey_df['Tweet'].map(lambda x: re.sub('http[s]?:\\/\\/[^\\s]*', ' ', x))\n",
    "harvey_df['Tweet'] = harvey_df['Tweet'].str.replace('[^\\w\\s#@/:%.,_-]', '', flags=re.UNICODE)"
   ]
  },
  {
   "cell_type": "code",
   "execution_count": 8,
   "metadata": {},
   "outputs": [],
   "source": [
    "harvey_df['Time'] = pd.to_datetime(harvey_df['Time'])"
   ]
  },
  {
   "cell_type": "code",
   "execution_count": 9,
   "metadata": {},
   "outputs": [
    {
     "data": {
      "text/plain": [
       "Unnamed: 0           float64\n",
       "ID                   float64\n",
       "Likes                float64\n",
       "Replies              float64\n",
       "Retweets             float64\n",
       "Time          datetime64[ns]\n",
       "Tweet                 object\n",
       "dtype: object"
      ]
     },
     "execution_count": 9,
     "metadata": {},
     "output_type": "execute_result"
    }
   ],
   "source": [
    "harvey_df.dtypes"
   ]
  },
  {
   "cell_type": "code",
   "execution_count": 10,
   "metadata": {},
   "outputs": [
    {
     "data": {
      "text/html": [
       "<div>\n",
       "<style scoped>\n",
       "    .dataframe tbody tr th:only-of-type {\n",
       "        vertical-align: middle;\n",
       "    }\n",
       "\n",
       "    .dataframe tbody tr th {\n",
       "        vertical-align: top;\n",
       "    }\n",
       "\n",
       "    .dataframe thead th {\n",
       "        text-align: right;\n",
       "    }\n",
       "</style>\n",
       "<table border=\"1\" class=\"dataframe\">\n",
       "  <thead>\n",
       "    <tr style=\"text-align: right;\">\n",
       "      <th></th>\n",
       "      <th>Unnamed: 0</th>\n",
       "      <th>ID</th>\n",
       "      <th>Likes</th>\n",
       "      <th>Replies</th>\n",
       "      <th>Retweets</th>\n",
       "      <th>Time</th>\n",
       "      <th>Tweet</th>\n",
       "    </tr>\n",
       "  </thead>\n",
       "  <tbody>\n",
       "    <tr>\n",
       "      <td>0</td>\n",
       "      <td>0.0</td>\n",
       "      <td>9.010000e+17</td>\n",
       "      <td>3.0</td>\n",
       "      <td>0.0</td>\n",
       "      <td>0.0</td>\n",
       "      <td>2017-08-25 14:44:00</td>\n",
       "      <td>if you do decide to drive in for #coldplayhous...</td>\n",
       "    </tr>\n",
       "    <tr>\n",
       "      <td>1</td>\n",
       "      <td>1.0</td>\n",
       "      <td>9.010000e+17</td>\n",
       "      <td>0.0</td>\n",
       "      <td>0.0</td>\n",
       "      <td>0.0</td>\n",
       "      <td>2017-08-25 14:44:00</td>\n",
       "      <td>as hurricane harvey is fast approaching, now i...</td>\n",
       "    </tr>\n",
       "    <tr>\n",
       "      <td>2</td>\n",
       "      <td>2.0</td>\n",
       "      <td>9.010000e+17</td>\n",
       "      <td>6.0</td>\n",
       "      <td>0.0</td>\n",
       "      <td>1.0</td>\n",
       "      <td>2017-08-25 14:44:00</td>\n",
       "      <td>is @jerryjordan_ktt providing live #hurricaneh...</td>\n",
       "    </tr>\n",
       "    <tr>\n",
       "      <td>3</td>\n",
       "      <td>3.0</td>\n",
       "      <td>9.010000e+17</td>\n",
       "      <td>0.0</td>\n",
       "      <td>0.0</td>\n",
       "      <td>0.0</td>\n",
       "      <td>2017-08-25 14:44:00</td>\n",
       "      <td>im waiting for a steve harvey hurricane meme</td>\n",
       "    </tr>\n",
       "    <tr>\n",
       "      <td>4</td>\n",
       "      <td>4.0</td>\n",
       "      <td>9.010000e+17</td>\n",
       "      <td>0.0</td>\n",
       "      <td>0.0</td>\n",
       "      <td>0.0</td>\n",
       "      <td>2017-08-25 14:44:00</td>\n",
       "      <td>the name of the hurricane is harvey ... steve ...</td>\n",
       "    </tr>\n",
       "    <tr>\n",
       "      <td>...</td>\n",
       "      <td>...</td>\n",
       "      <td>...</td>\n",
       "      <td>...</td>\n",
       "      <td>...</td>\n",
       "      <td>...</td>\n",
       "      <td>...</td>\n",
       "      <td>...</td>\n",
       "    </tr>\n",
       "    <tr>\n",
       "      <td>399401</td>\n",
       "      <td>224353.0</td>\n",
       "      <td>9.030000e+17</td>\n",
       "      <td>0.0</td>\n",
       "      <td>0.0</td>\n",
       "      <td>0.0</td>\n",
       "      <td>2017-08-29 13:56:00</td>\n",
       "      <td>lawyers wanting to provide pro bono help in th...</td>\n",
       "    </tr>\n",
       "    <tr>\n",
       "      <td>399402</td>\n",
       "      <td>224354.0</td>\n",
       "      <td>9.030000e+17</td>\n",
       "      <td>0.0</td>\n",
       "      <td>0.0</td>\n",
       "      <td>0.0</td>\n",
       "      <td>2017-08-29 13:56:00</td>\n",
       "      <td>hurricane harvey: alabamas largest church alre...</td>\n",
       "    </tr>\n",
       "    <tr>\n",
       "      <td>399403</td>\n",
       "      <td>224355.0</td>\n",
       "      <td>9.030000e+17</td>\n",
       "      <td>0.0</td>\n",
       "      <td>0.0</td>\n",
       "      <td>0.0</td>\n",
       "      <td>2017-08-29 13:56:00</td>\n",
       "      <td>hurricane harvey pressures already tight houst...</td>\n",
       "    </tr>\n",
       "    <tr>\n",
       "      <td>399404</td>\n",
       "      <td>224356.0</td>\n",
       "      <td>9.030000e+17</td>\n",
       "      <td>0.0</td>\n",
       "      <td>0.0</td>\n",
       "      <td>0.0</td>\n",
       "      <td>2017-08-29 13:57:00</td>\n",
       "      <td>our thoughts are with our neighbors in the sou...</td>\n",
       "    </tr>\n",
       "    <tr>\n",
       "      <td>399405</td>\n",
       "      <td>224357.0</td>\n",
       "      <td>9.030000e+17</td>\n",
       "      <td>0.0</td>\n",
       "      <td>0.0</td>\n",
       "      <td>0.0</td>\n",
       "      <td>2017-08-29 13:57:00</td>\n",
       "      <td>marylanders head to texas to assist with hurri...</td>\n",
       "    </tr>\n",
       "  </tbody>\n",
       "</table>\n",
       "<p>398849 rows × 7 columns</p>\n",
       "</div>"
      ],
      "text/plain": [
       "        Unnamed: 0            ID  Likes  Replies  Retweets  \\\n",
       "0              0.0  9.010000e+17    3.0      0.0       0.0   \n",
       "1              1.0  9.010000e+17    0.0      0.0       0.0   \n",
       "2              2.0  9.010000e+17    6.0      0.0       1.0   \n",
       "3              3.0  9.010000e+17    0.0      0.0       0.0   \n",
       "4              4.0  9.010000e+17    0.0      0.0       0.0   \n",
       "...            ...           ...    ...      ...       ...   \n",
       "399401    224353.0  9.030000e+17    0.0      0.0       0.0   \n",
       "399402    224354.0  9.030000e+17    0.0      0.0       0.0   \n",
       "399403    224355.0  9.030000e+17    0.0      0.0       0.0   \n",
       "399404    224356.0  9.030000e+17    0.0      0.0       0.0   \n",
       "399405    224357.0  9.030000e+17    0.0      0.0       0.0   \n",
       "\n",
       "                      Time                                              Tweet  \n",
       "0      2017-08-25 14:44:00  if you do decide to drive in for #coldplayhous...  \n",
       "1      2017-08-25 14:44:00  as hurricane harvey is fast approaching, now i...  \n",
       "2      2017-08-25 14:44:00  is @jerryjordan_ktt providing live #hurricaneh...  \n",
       "3      2017-08-25 14:44:00       im waiting for a steve harvey hurricane meme  \n",
       "4      2017-08-25 14:44:00  the name of the hurricane is harvey ... steve ...  \n",
       "...                    ...                                                ...  \n",
       "399401 2017-08-29 13:56:00  lawyers wanting to provide pro bono help in th...  \n",
       "399402 2017-08-29 13:56:00  hurricane harvey: alabamas largest church alre...  \n",
       "399403 2017-08-29 13:56:00  hurricane harvey pressures already tight houst...  \n",
       "399404 2017-08-29 13:57:00  our thoughts are with our neighbors in the sou...  \n",
       "399405 2017-08-29 13:57:00  marylanders head to texas to assist with hurri...  \n",
       "\n",
       "[398849 rows x 7 columns]"
      ]
     },
     "execution_count": 10,
     "metadata": {},
     "output_type": "execute_result"
    }
   ],
   "source": [
    "harvey_df"
   ]
  },
  {
   "cell_type": "code",
   "execution_count": 11,
   "metadata": {},
   "outputs": [],
   "source": [
    "harvey_df['Time'] = harvey_df['Time'].dt.date"
   ]
  },
  {
   "cell_type": "code",
   "execution_count": 12,
   "metadata": {},
   "outputs": [
    {
     "data": {
      "text/plain": [
       "Unnamed: 0    float64\n",
       "ID            float64\n",
       "Likes         float64\n",
       "Replies       float64\n",
       "Retweets      float64\n",
       "Time           object\n",
       "Tweet          object\n",
       "dtype: object"
      ]
     },
     "execution_count": 12,
     "metadata": {},
     "output_type": "execute_result"
    }
   ],
   "source": [
    "harvey_df.dtypes"
   ]
  },
  {
   "cell_type": "code",
   "execution_count": 13,
   "metadata": {},
   "outputs": [],
   "source": [
    "harvey_df['Time'] = pd.to_datetime(harvey_df['Time'])"
   ]
  },
  {
   "cell_type": "code",
   "execution_count": 14,
   "metadata": {},
   "outputs": [
    {
     "data": {
      "text/plain": [
       "Unnamed: 0           float64\n",
       "ID                   float64\n",
       "Likes                float64\n",
       "Replies              float64\n",
       "Retweets             float64\n",
       "Time          datetime64[ns]\n",
       "Tweet                 object\n",
       "dtype: object"
      ]
     },
     "execution_count": 14,
     "metadata": {},
     "output_type": "execute_result"
    }
   ],
   "source": [
    "harvey_df.dtypes"
   ]
  },
  {
   "cell_type": "code",
   "execution_count": 15,
   "metadata": {},
   "outputs": [],
   "source": [
    "day1_df = harvey_df[harvey_df['Time'] == \"2017-08-25\"]"
   ]
  },
  {
   "cell_type": "code",
   "execution_count": 16,
   "metadata": {},
   "outputs": [],
   "source": [
    "day2_df =harvey_df[harvey_df['Time'] == \"2017-08-26\"]"
   ]
  },
  {
   "cell_type": "code",
   "execution_count": 17,
   "metadata": {},
   "outputs": [],
   "source": [
    "day3_df =harvey_df[harvey_df['Time'] == \"2017-08-27\"]"
   ]
  },
  {
   "cell_type": "code",
   "execution_count": 18,
   "metadata": {},
   "outputs": [],
   "source": [
    "day4_df =harvey_df[harvey_df['Time'] == \"2017-08-28\"]"
   ]
  },
  {
   "cell_type": "code",
   "execution_count": 19,
   "metadata": {},
   "outputs": [],
   "source": [
    "day5_df =harvey_df[harvey_df['Time'] == \"2017-08-29\"]"
   ]
  },
  {
   "cell_type": "code",
   "execution_count": 20,
   "metadata": {},
   "outputs": [],
   "source": [
    "X_day1 = day1_df['Tweet']"
   ]
  },
  {
   "cell_type": "code",
   "execution_count": 21,
   "metadata": {},
   "outputs": [],
   "source": [
    "X_day2 = day2_df['Tweet']\n",
    "X_day3 = day3_df['Tweet']\n",
    "X_day4 = day4_df['Tweet']\n",
    "X_day5 = day5_df['Tweet']\n"
   ]
  },
  {
   "cell_type": "code",
   "execution_count": 22,
   "metadata": {},
   "outputs": [],
   "source": [
    "cvec = CountVectorizer(stop_words='english', min_df=2, ngram_range = (1,3), max_features=1500)"
   ]
  },
  {
   "cell_type": "code",
   "execution_count": 23,
   "metadata": {},
   "outputs": [],
   "source": [
    "data_features_day1 = pd.DataFrame(cvec.fit_transform(X_day1).todense(), \n",
    "                             columns=cvec.get_feature_names())\n",
    "\n",
    "data_features_day2 = pd.DataFrame(cvec.fit_transform(X_day2).todense(), \n",
    "                             columns=cvec.get_feature_names())\n",
    "\n",
    "data_features_day3 = pd.DataFrame(cvec.fit_transform(X_day3).todense(), \n",
    "                             columns=cvec.get_feature_names())\n",
    "\n",
    "data_features_day4 = pd.DataFrame(cvec.fit_transform(X_day4).todense(), \n",
    "                             columns=cvec.get_feature_names())\n",
    "\n",
    "data_features_day5 = pd.DataFrame(cvec.fit_transform(X_day5).todense(), \n",
    "                             columns=cvec.get_feature_names())\n",
    "\n",
    "#create list \n",
    "words_day1 = data_features_day1.sum().sort_values(ascending=False).head(1000).index\n",
    "words_day2 = data_features_day2.sum().sort_values(ascending=False).head(1000).index\n",
    "words_day3 = data_features_day3.sum().sort_values(ascending=False).head(1000).index\n",
    "words_day4 = data_features_day4.sum().sort_values(ascending=False).head(1000).index\n",
    "words_day5 = data_features_day5.sum().sort_values(ascending=False).head(1000).index"
   ]
  },
  {
   "cell_type": "code",
   "execution_count": 34,
   "metadata": {},
   "outputs": [
    {
     "data": {
      "image/png": "[encoded data removed]",
      "text/plain": [
       "<Figure size 1080x432 with 2 Axes>"
      ]
     },
     "metadata": {
      "needs_background": "light"
     },
     "output_type": "display_data"
    }
   ],
   "source": [
    "#took the common words and applied them to city specific sub-dataframes of the countvectorized data_features \n",
    "fig, (ax1, ax2) = plt.subplots(ncols=2, figsize = (15, 6))\n",
    "\n",
    "data_features_day1.loc[:, words_day1[:25]].sum().plot.barh(ax = ax1, title = 'Day 1', color = '#CE1141'),\n",
    "\n",
    "data_features_day2.loc[:, words_day2[:25]].sum().plot.barh(ax = ax2, title = 'Day 2', color = '#C4CED4'),\n",
    "\n",
    "fig.suptitle('Common Words by Day', fontsize=18)\n",
    "plt.tight_layout();"
   ]
  },
  {
   "cell_type": "code",
   "execution_count": 28,
   "metadata": {},
   "outputs": [
    {
     "data": {
      "image/png": "[encoded data removed]",
      "text/plain": [
       "<Figure size 1080x432 with 2 Axes>"
      ]
     },
     "metadata": {
      "needs_background": "light"
     },
     "output_type": "display_data"
    }
   ],
   "source": [
    "##took the common words and applied them to city specific sub-dataframes of the countvectorized data_features \n",
    "fig, (ax1, ax2) = plt.subplots(ncols=2, figsize = (15, 6))\n",
    "\n",
    "data_features_day3.loc[:, words_day3[:25]].sum().plot.barh(ax = ax1, title = 'Day 3', color = '#f4911e'),\n",
    "\n",
    "data_features_day4.loc[:, words_day4[:25]].sum().plot.barh(ax = ax2, title = 'Day 4', color = '#92c3f1'),\n",
    "\n",
    "fig.suptitle('Common Words By Day', fontsize=18)\n",
    "plt.tight_layout();"
   ]
  },
  {
   "cell_type": "code",
   "execution_count": 29,
   "metadata": {},
   "outputs": [
    {
     "data": {
      "image/png": "[encoded data removed]",
      "text/plain": [
       "<Figure size 540x432 with 1 Axes>"
      ]
     },
     "metadata": {
      "needs_background": "light"
     },
     "output_type": "display_data"
    }
   ],
   "source": [
    "fig, (ax1) = plt.subplots(ncols=1, figsize = (7.5, 6))\n",
    "\n",
    "\n",
    "data_features_day5.loc[:, words_day5[:25]].sum().plot.barh(ax = ax1, title = 'Day 5', color = '#002D62');"
   ]
  },
  {
   "cell_type": "code",
   "execution_count": null,
   "metadata": {},
   "outputs": [],
   "source": []
  }
 ],
 "metadata": {
  "kernelspec": {
   "display_name": "Python 3",
   "language": "python",
   "name": "python3"
  },
  "language_info": {
   "codemirror_mode": {
    "name": "ipython",
    "version": 3
   },
   "file_extension": ".py",
   "mimetype": "text/x-python",
   "name": "python",
   "nbconvert_exporter": "python",
   "pygments_lexer": "ipython3",
   "version": "3.7.3"
  }
 },
 "nbformat": 4,
 "nbformat_minor": 2
}
